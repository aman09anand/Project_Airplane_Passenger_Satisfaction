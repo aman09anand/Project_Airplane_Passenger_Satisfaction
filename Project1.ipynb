{
 "cells": [
  {
   "cell_type": "markdown",
   "id": "2a3d60ca",
   "metadata": {},
   "source": [
    "## 1. Import Libraries\n",
    "\n",
    "#### Let us import the required libraries and functions"
   ]
  },
  {
   "cell_type": "code",
   "execution_count": 1,
   "id": "f9502f87",
   "metadata": {},
   "outputs": [],
   "source": [
    "import pandas as pd\n",
    "import numpy as np\n",
    "\n",
    "import matplotlib.pyplot as plt\n",
    "%matplotlib inline\n",
    "\n",
    "import seaborn as sns\n",
    "import scipy.stats\n",
    "\n",
    "import warnings\n",
    "warnings.filterwarnings('ignore')"
   ]
  },
  {
   "cell_type": "markdown",
   "id": "c1122368",
   "metadata": {},
   "source": [
    "## 2. Read Data\n",
    "### Read and display data to gey insights from the data"
   ]
  },
  {
   "cell_type": "code",
   "execution_count": 2,
   "id": "92542c8a",
   "metadata": {},
   "outputs": [
    {
     "data": {
      "text/html": [
       "<div>\n",
       "<style scoped>\n",
       "    .dataframe tbody tr th:only-of-type {\n",
       "        vertical-align: middle;\n",
       "    }\n",
       "\n",
       "    .dataframe tbody tr th {\n",
       "        vertical-align: top;\n",
       "    }\n",
       "\n",
       "    .dataframe thead th {\n",
       "        text-align: right;\n",
       "    }\n",
       "</style>\n",
       "<table border=\"1\" class=\"dataframe\">\n",
       "  <thead>\n",
       "    <tr style=\"text-align: right;\">\n",
       "      <th></th>\n",
       "      <th>ID</th>\n",
       "      <th>Gender</th>\n",
       "      <th>Age</th>\n",
       "      <th>Customer Type</th>\n",
       "      <th>Type of Travel</th>\n",
       "      <th>Class</th>\n",
       "      <th>Flight Distance</th>\n",
       "      <th>Departure Delay</th>\n",
       "      <th>Arrival Delay</th>\n",
       "      <th>Departure and Arrival Time Convenience</th>\n",
       "      <th>...</th>\n",
       "      <th>On-board Service</th>\n",
       "      <th>Seat Comfort</th>\n",
       "      <th>Leg Room Service</th>\n",
       "      <th>Cleanliness</th>\n",
       "      <th>Food and Drink</th>\n",
       "      <th>In-flight Service</th>\n",
       "      <th>In-flight Wifi Service</th>\n",
       "      <th>In-flight Entertainment</th>\n",
       "      <th>Baggage Handling</th>\n",
       "      <th>Satisfaction</th>\n",
       "    </tr>\n",
       "  </thead>\n",
       "  <tbody>\n",
       "    <tr>\n",
       "      <th>0</th>\n",
       "      <td>1</td>\n",
       "      <td>Male</td>\n",
       "      <td>48</td>\n",
       "      <td>First-time</td>\n",
       "      <td>Business</td>\n",
       "      <td>Business</td>\n",
       "      <td>821</td>\n",
       "      <td>2</td>\n",
       "      <td>5.0</td>\n",
       "      <td>3</td>\n",
       "      <td>...</td>\n",
       "      <td>3</td>\n",
       "      <td>5</td>\n",
       "      <td>2</td>\n",
       "      <td>5</td>\n",
       "      <td>5</td>\n",
       "      <td>5</td>\n",
       "      <td>3</td>\n",
       "      <td>5</td>\n",
       "      <td>5</td>\n",
       "      <td>Neutral or Dissatisfied</td>\n",
       "    </tr>\n",
       "    <tr>\n",
       "      <th>1</th>\n",
       "      <td>2</td>\n",
       "      <td>Female</td>\n",
       "      <td>35</td>\n",
       "      <td>Returning</td>\n",
       "      <td>Business</td>\n",
       "      <td>Business</td>\n",
       "      <td>821</td>\n",
       "      <td>26</td>\n",
       "      <td>39.0</td>\n",
       "      <td>2</td>\n",
       "      <td>...</td>\n",
       "      <td>5</td>\n",
       "      <td>4</td>\n",
       "      <td>5</td>\n",
       "      <td>5</td>\n",
       "      <td>3</td>\n",
       "      <td>5</td>\n",
       "      <td>2</td>\n",
       "      <td>5</td>\n",
       "      <td>5</td>\n",
       "      <td>Satisfied</td>\n",
       "    </tr>\n",
       "    <tr>\n",
       "      <th>2</th>\n",
       "      <td>3</td>\n",
       "      <td>Male</td>\n",
       "      <td>41</td>\n",
       "      <td>Returning</td>\n",
       "      <td>Business</td>\n",
       "      <td>Business</td>\n",
       "      <td>853</td>\n",
       "      <td>0</td>\n",
       "      <td>0.0</td>\n",
       "      <td>4</td>\n",
       "      <td>...</td>\n",
       "      <td>3</td>\n",
       "      <td>5</td>\n",
       "      <td>3</td>\n",
       "      <td>5</td>\n",
       "      <td>5</td>\n",
       "      <td>3</td>\n",
       "      <td>4</td>\n",
       "      <td>3</td>\n",
       "      <td>3</td>\n",
       "      <td>Satisfied</td>\n",
       "    </tr>\n",
       "    <tr>\n",
       "      <th>3</th>\n",
       "      <td>4</td>\n",
       "      <td>Male</td>\n",
       "      <td>50</td>\n",
       "      <td>Returning</td>\n",
       "      <td>Business</td>\n",
       "      <td>Business</td>\n",
       "      <td>1905</td>\n",
       "      <td>0</td>\n",
       "      <td>0.0</td>\n",
       "      <td>2</td>\n",
       "      <td>...</td>\n",
       "      <td>5</td>\n",
       "      <td>5</td>\n",
       "      <td>5</td>\n",
       "      <td>4</td>\n",
       "      <td>4</td>\n",
       "      <td>5</td>\n",
       "      <td>2</td>\n",
       "      <td>5</td>\n",
       "      <td>5</td>\n",
       "      <td>Satisfied</td>\n",
       "    </tr>\n",
       "    <tr>\n",
       "      <th>4</th>\n",
       "      <td>5</td>\n",
       "      <td>Female</td>\n",
       "      <td>49</td>\n",
       "      <td>Returning</td>\n",
       "      <td>Business</td>\n",
       "      <td>Business</td>\n",
       "      <td>3470</td>\n",
       "      <td>0</td>\n",
       "      <td>1.0</td>\n",
       "      <td>3</td>\n",
       "      <td>...</td>\n",
       "      <td>3</td>\n",
       "      <td>4</td>\n",
       "      <td>4</td>\n",
       "      <td>5</td>\n",
       "      <td>4</td>\n",
       "      <td>3</td>\n",
       "      <td>3</td>\n",
       "      <td>3</td>\n",
       "      <td>3</td>\n",
       "      <td>Satisfied</td>\n",
       "    </tr>\n",
       "  </tbody>\n",
       "</table>\n",
       "<p>5 rows × 24 columns</p>\n",
       "</div>"
      ],
      "text/plain": [
       "   ID  Gender  Age Customer Type Type of Travel     Class  Flight Distance  \\\n",
       "0   1    Male   48    First-time       Business  Business              821   \n",
       "1   2  Female   35     Returning       Business  Business              821   \n",
       "2   3    Male   41     Returning       Business  Business              853   \n",
       "3   4    Male   50     Returning       Business  Business             1905   \n",
       "4   5  Female   49     Returning       Business  Business             3470   \n",
       "\n",
       "   Departure Delay  Arrival Delay  Departure and Arrival Time Convenience  \\\n",
       "0                2            5.0                                       3   \n",
       "1               26           39.0                                       2   \n",
       "2                0            0.0                                       4   \n",
       "3                0            0.0                                       2   \n",
       "4                0            1.0                                       3   \n",
       "\n",
       "   ...  On-board Service  Seat Comfort  Leg Room Service  Cleanliness  \\\n",
       "0  ...                 3             5                 2            5   \n",
       "1  ...                 5             4                 5            5   \n",
       "2  ...                 3             5                 3            5   \n",
       "3  ...                 5             5                 5            4   \n",
       "4  ...                 3             4                 4            5   \n",
       "\n",
       "   Food and Drink  In-flight Service  In-flight Wifi Service  \\\n",
       "0               5                  5                       3   \n",
       "1               3                  5                       2   \n",
       "2               5                  3                       4   \n",
       "3               4                  5                       2   \n",
       "4               4                  3                       3   \n",
       "\n",
       "   In-flight Entertainment  Baggage Handling             Satisfaction  \n",
       "0                        5                 5  Neutral or Dissatisfied  \n",
       "1                        5                 5                Satisfied  \n",
       "2                        3                 3                Satisfied  \n",
       "3                        5                 5                Satisfied  \n",
       "4                        3                 3                Satisfied  \n",
       "\n",
       "[5 rows x 24 columns]"
      ]
     },
     "execution_count": 2,
     "metadata": {},
     "output_type": "execute_result"
    }
   ],
   "source": [
    "data  = pd.read_csv('airline_passenger_satisfaction.csv') # read csv file using pandas\n",
    "data.head() # display first 5 records of the dataframe"
   ]
  },
  {
   "cell_type": "markdown",
   "id": "68ad57af",
   "metadata": {},
   "source": [
    "## 3. Data Analysis and Preparation\n",
    "### Data preparation is the process of cleaning and transforming raw data prior to building predictive models.\n",
    "### Here we will analyze and prepare data to perform regression analysis:\n",
    "1. Check dimensions of the dataframe in terms of rows and columns\n",
    "2. Check the data types. Refer data definition to ensure your data types are correct\n",
    "3. If data types are not as per business context, change the data types as per requirement\n",
    "4. Study summary statistics\n",
    "5. Check for missing values\n",
    "6. Study correlation\n",
    "7. Analyze categorical variables\n",
    "8. Analyze relationship between target variable and categorical variables\n",
    "9. Perform feature engineering\n",
    "10. Detect outliers\n",
    "11. Recheck the correlation"
   ]
  },
  {
   "cell_type": "markdown",
   "id": "c831a937",
   "metadata": {},
   "source": [
    "### 3.1.1 Data Dimension\n",
    "\n",
    "To Know the dimensions od the data:"
   ]
  },
  {
   "cell_type": "code",
   "execution_count": 3,
   "id": "3785dcde",
   "metadata": {},
   "outputs": [
    {
     "data": {
      "text/plain": [
       "(129880, 24)"
      ]
     },
     "execution_count": 3,
     "metadata": {},
     "output_type": "execute_result"
    }
   ],
   "source": [
    "data.shape #.shape returns the dimension of the data"
   ]
  },
  {
   "cell_type": "markdown",
   "id": "1d0295df",
   "metadata": {},
   "source": [
    "We see the dataframe has `24` **columnns** and `129880` **observations**."
   ]
  },
  {
   "cell_type": "markdown",
   "id": "88dcb9f2",
   "metadata": {},
   "source": [
    "### 3.1.2 Data Types\n",
    "In this section we will:\n",
    "\n",
    "    1. check data types \n",
    "\n",
    "    2. Change incorrect data types\n",
    "    \n",
    "    3. Recheck the data types"
   ]
  },
  {
   "cell_type": "code",
   "execution_count": 4,
   "id": "c441601d",
   "metadata": {},
   "outputs": [
    {
     "data": {
      "text/plain": [
       "ID                                          int64\n",
       "Gender                                     object\n",
       "Age                                         int64\n",
       "Customer Type                              object\n",
       "Type of Travel                             object\n",
       "Class                                      object\n",
       "Flight Distance                             int64\n",
       "Departure Delay                             int64\n",
       "Arrival Delay                             float64\n",
       "Departure and Arrival Time Convenience      int64\n",
       "Ease of Online Booking                      int64\n",
       "Check-in Service                            int64\n",
       "Online Boarding                             int64\n",
       "Gate Location                               int64\n",
       "On-board Service                            int64\n",
       "Seat Comfort                                int64\n",
       "Leg Room Service                            int64\n",
       "Cleanliness                                 int64\n",
       "Food and Drink                              int64\n",
       "In-flight Service                           int64\n",
       "In-flight Wifi Service                      int64\n",
       "In-flight Entertainment                     int64\n",
       "Baggage Handling                            int64\n",
       "Satisfaction                               object\n",
       "dtype: object"
      ]
     },
     "execution_count": 4,
     "metadata": {},
     "output_type": "execute_result"
    }
   ],
   "source": [
    "data.dtypes # check types of data"
   ]
  },
  {
   "cell_type": "markdown",
   "id": "2390b16e",
   "metadata": {},
   "source": [
    "Using the __*info function*__, we can pull the following information from our dataset :\n",
    ">- We have __5 categorical variables__ and __19 numerical variables__\n",
    ">- As data defination Departure Delay information in minutes, so dtypes will be float \n",
    ">- change dtypes of departure delay in float"
   ]
  },
  {
   "cell_type": "code",
   "execution_count": 5,
   "id": "9dd6a853",
   "metadata": {},
   "outputs": [],
   "source": [
    "data['Departure Delay'] = data['Departure Delay'].astype('float64')"
   ]
  },
  {
   "cell_type": "code",
   "execution_count": 6,
   "id": "951dfa9d",
   "metadata": {},
   "outputs": [
    {
     "data": {
      "text/plain": [
       "ID                                          int64\n",
       "Gender                                     object\n",
       "Age                                         int64\n",
       "Customer Type                              object\n",
       "Type of Travel                             object\n",
       "Class                                      object\n",
       "Flight Distance                             int64\n",
       "Departure Delay                           float64\n",
       "Arrival Delay                             float64\n",
       "Departure and Arrival Time Convenience      int64\n",
       "Ease of Online Booking                      int64\n",
       "Check-in Service                            int64\n",
       "Online Boarding                             int64\n",
       "Gate Location                               int64\n",
       "On-board Service                            int64\n",
       "Seat Comfort                                int64\n",
       "Leg Room Service                            int64\n",
       "Cleanliness                                 int64\n",
       "Food and Drink                              int64\n",
       "In-flight Service                           int64\n",
       "In-flight Wifi Service                      int64\n",
       "In-flight Entertainment                     int64\n",
       "Baggage Handling                            int64\n",
       "Satisfaction                               object\n",
       "dtype: object"
      ]
     },
     "execution_count": 6,
     "metadata": {},
     "output_type": "execute_result"
    }
   ],
   "source": [
    "## Recheck data types \n",
    "data.dtypes"
   ]
  },
  {
   "cell_type": "code",
   "execution_count": 7,
   "id": "77608d8c",
   "metadata": {},
   "outputs": [],
   "source": [
    "data = data.drop('ID', axis = 1) # droping unnecessary parameter"
   ]
  },
  {
   "cell_type": "markdown",
   "id": "2c63a55a",
   "metadata": {},
   "source": [
    "## Summary Statistics\n",
    "In our dataset we have numrecial and categorical variables. Now check for summary statistics of all variables"
   ]
  },
  {
   "cell_type": "code",
   "execution_count": 8,
   "id": "6c40d9ad",
   "metadata": {},
   "outputs": [
    {
     "data": {
      "text/html": [
       "<div>\n",
       "<style scoped>\n",
       "    .dataframe tbody tr th:only-of-type {\n",
       "        vertical-align: middle;\n",
       "    }\n",
       "\n",
       "    .dataframe tbody tr th {\n",
       "        vertical-align: top;\n",
       "    }\n",
       "\n",
       "    .dataframe thead th {\n",
       "        text-align: right;\n",
       "    }\n",
       "</style>\n",
       "<table border=\"1\" class=\"dataframe\">\n",
       "  <thead>\n",
       "    <tr style=\"text-align: right;\">\n",
       "      <th></th>\n",
       "      <th>count</th>\n",
       "      <th>mean</th>\n",
       "      <th>std</th>\n",
       "      <th>min</th>\n",
       "      <th>25%</th>\n",
       "      <th>50%</th>\n",
       "      <th>75%</th>\n",
       "      <th>max</th>\n",
       "    </tr>\n",
       "  </thead>\n",
       "  <tbody>\n",
       "    <tr>\n",
       "      <th>Age</th>\n",
       "      <td>129880.0</td>\n",
       "      <td>39.427957</td>\n",
       "      <td>15.119360</td>\n",
       "      <td>7.0</td>\n",
       "      <td>27.0</td>\n",
       "      <td>40.0</td>\n",
       "      <td>51.0</td>\n",
       "      <td>85.0</td>\n",
       "    </tr>\n",
       "    <tr>\n",
       "      <th>Flight Distance</th>\n",
       "      <td>129880.0</td>\n",
       "      <td>1190.316392</td>\n",
       "      <td>997.452477</td>\n",
       "      <td>31.0</td>\n",
       "      <td>414.0</td>\n",
       "      <td>844.0</td>\n",
       "      <td>1744.0</td>\n",
       "      <td>4983.0</td>\n",
       "    </tr>\n",
       "    <tr>\n",
       "      <th>Departure Delay</th>\n",
       "      <td>129880.0</td>\n",
       "      <td>14.713713</td>\n",
       "      <td>38.071126</td>\n",
       "      <td>0.0</td>\n",
       "      <td>0.0</td>\n",
       "      <td>0.0</td>\n",
       "      <td>12.0</td>\n",
       "      <td>1592.0</td>\n",
       "    </tr>\n",
       "    <tr>\n",
       "      <th>Arrival Delay</th>\n",
       "      <td>129487.0</td>\n",
       "      <td>15.091129</td>\n",
       "      <td>38.465650</td>\n",
       "      <td>0.0</td>\n",
       "      <td>0.0</td>\n",
       "      <td>0.0</td>\n",
       "      <td>13.0</td>\n",
       "      <td>1584.0</td>\n",
       "    </tr>\n",
       "    <tr>\n",
       "      <th>Departure and Arrival Time Convenience</th>\n",
       "      <td>129880.0</td>\n",
       "      <td>3.057599</td>\n",
       "      <td>1.526741</td>\n",
       "      <td>0.0</td>\n",
       "      <td>2.0</td>\n",
       "      <td>3.0</td>\n",
       "      <td>4.0</td>\n",
       "      <td>5.0</td>\n",
       "    </tr>\n",
       "    <tr>\n",
       "      <th>Ease of Online Booking</th>\n",
       "      <td>129880.0</td>\n",
       "      <td>2.756876</td>\n",
       "      <td>1.401740</td>\n",
       "      <td>0.0</td>\n",
       "      <td>2.0</td>\n",
       "      <td>3.0</td>\n",
       "      <td>4.0</td>\n",
       "      <td>5.0</td>\n",
       "    </tr>\n",
       "    <tr>\n",
       "      <th>Check-in Service</th>\n",
       "      <td>129880.0</td>\n",
       "      <td>3.306267</td>\n",
       "      <td>1.266185</td>\n",
       "      <td>0.0</td>\n",
       "      <td>3.0</td>\n",
       "      <td>3.0</td>\n",
       "      <td>4.0</td>\n",
       "      <td>5.0</td>\n",
       "    </tr>\n",
       "    <tr>\n",
       "      <th>Online Boarding</th>\n",
       "      <td>129880.0</td>\n",
       "      <td>3.252633</td>\n",
       "      <td>1.350719</td>\n",
       "      <td>0.0</td>\n",
       "      <td>2.0</td>\n",
       "      <td>3.0</td>\n",
       "      <td>4.0</td>\n",
       "      <td>5.0</td>\n",
       "    </tr>\n",
       "    <tr>\n",
       "      <th>Gate Location</th>\n",
       "      <td>129880.0</td>\n",
       "      <td>2.976925</td>\n",
       "      <td>1.278520</td>\n",
       "      <td>0.0</td>\n",
       "      <td>2.0</td>\n",
       "      <td>3.0</td>\n",
       "      <td>4.0</td>\n",
       "      <td>5.0</td>\n",
       "    </tr>\n",
       "    <tr>\n",
       "      <th>On-board Service</th>\n",
       "      <td>129880.0</td>\n",
       "      <td>3.383023</td>\n",
       "      <td>1.287099</td>\n",
       "      <td>0.0</td>\n",
       "      <td>2.0</td>\n",
       "      <td>4.0</td>\n",
       "      <td>4.0</td>\n",
       "      <td>5.0</td>\n",
       "    </tr>\n",
       "    <tr>\n",
       "      <th>Seat Comfort</th>\n",
       "      <td>129880.0</td>\n",
       "      <td>3.441361</td>\n",
       "      <td>1.319289</td>\n",
       "      <td>0.0</td>\n",
       "      <td>2.0</td>\n",
       "      <td>4.0</td>\n",
       "      <td>5.0</td>\n",
       "      <td>5.0</td>\n",
       "    </tr>\n",
       "    <tr>\n",
       "      <th>Leg Room Service</th>\n",
       "      <td>129880.0</td>\n",
       "      <td>3.350878</td>\n",
       "      <td>1.316252</td>\n",
       "      <td>0.0</td>\n",
       "      <td>2.0</td>\n",
       "      <td>4.0</td>\n",
       "      <td>4.0</td>\n",
       "      <td>5.0</td>\n",
       "    </tr>\n",
       "    <tr>\n",
       "      <th>Cleanliness</th>\n",
       "      <td>129880.0</td>\n",
       "      <td>3.286326</td>\n",
       "      <td>1.313682</td>\n",
       "      <td>0.0</td>\n",
       "      <td>2.0</td>\n",
       "      <td>3.0</td>\n",
       "      <td>4.0</td>\n",
       "      <td>5.0</td>\n",
       "    </tr>\n",
       "    <tr>\n",
       "      <th>Food and Drink</th>\n",
       "      <td>129880.0</td>\n",
       "      <td>3.204774</td>\n",
       "      <td>1.329933</td>\n",
       "      <td>0.0</td>\n",
       "      <td>2.0</td>\n",
       "      <td>3.0</td>\n",
       "      <td>4.0</td>\n",
       "      <td>5.0</td>\n",
       "    </tr>\n",
       "    <tr>\n",
       "      <th>In-flight Service</th>\n",
       "      <td>129880.0</td>\n",
       "      <td>3.642193</td>\n",
       "      <td>1.176669</td>\n",
       "      <td>0.0</td>\n",
       "      <td>3.0</td>\n",
       "      <td>4.0</td>\n",
       "      <td>5.0</td>\n",
       "      <td>5.0</td>\n",
       "    </tr>\n",
       "    <tr>\n",
       "      <th>In-flight Wifi Service</th>\n",
       "      <td>129880.0</td>\n",
       "      <td>2.728696</td>\n",
       "      <td>1.329340</td>\n",
       "      <td>0.0</td>\n",
       "      <td>2.0</td>\n",
       "      <td>3.0</td>\n",
       "      <td>4.0</td>\n",
       "      <td>5.0</td>\n",
       "    </tr>\n",
       "    <tr>\n",
       "      <th>In-flight Entertainment</th>\n",
       "      <td>129880.0</td>\n",
       "      <td>3.358077</td>\n",
       "      <td>1.334049</td>\n",
       "      <td>0.0</td>\n",
       "      <td>2.0</td>\n",
       "      <td>4.0</td>\n",
       "      <td>4.0</td>\n",
       "      <td>5.0</td>\n",
       "    </tr>\n",
       "    <tr>\n",
       "      <th>Baggage Handling</th>\n",
       "      <td>129880.0</td>\n",
       "      <td>3.632114</td>\n",
       "      <td>1.180025</td>\n",
       "      <td>1.0</td>\n",
       "      <td>3.0</td>\n",
       "      <td>4.0</td>\n",
       "      <td>5.0</td>\n",
       "      <td>5.0</td>\n",
       "    </tr>\n",
       "  </tbody>\n",
       "</table>\n",
       "</div>"
      ],
      "text/plain": [
       "                                           count         mean         std  \\\n",
       "Age                                     129880.0    39.427957   15.119360   \n",
       "Flight Distance                         129880.0  1190.316392  997.452477   \n",
       "Departure Delay                         129880.0    14.713713   38.071126   \n",
       "Arrival Delay                           129487.0    15.091129   38.465650   \n",
       "Departure and Arrival Time Convenience  129880.0     3.057599    1.526741   \n",
       "Ease of Online Booking                  129880.0     2.756876    1.401740   \n",
       "Check-in Service                        129880.0     3.306267    1.266185   \n",
       "Online Boarding                         129880.0     3.252633    1.350719   \n",
       "Gate Location                           129880.0     2.976925    1.278520   \n",
       "On-board Service                        129880.0     3.383023    1.287099   \n",
       "Seat Comfort                            129880.0     3.441361    1.319289   \n",
       "Leg Room Service                        129880.0     3.350878    1.316252   \n",
       "Cleanliness                             129880.0     3.286326    1.313682   \n",
       "Food and Drink                          129880.0     3.204774    1.329933   \n",
       "In-flight Service                       129880.0     3.642193    1.176669   \n",
       "In-flight Wifi Service                  129880.0     2.728696    1.329340   \n",
       "In-flight Entertainment                 129880.0     3.358077    1.334049   \n",
       "Baggage Handling                        129880.0     3.632114    1.180025   \n",
       "\n",
       "                                         min    25%    50%     75%     max  \n",
       "Age                                      7.0   27.0   40.0    51.0    85.0  \n",
       "Flight Distance                         31.0  414.0  844.0  1744.0  4983.0  \n",
       "Departure Delay                          0.0    0.0    0.0    12.0  1592.0  \n",
       "Arrival Delay                            0.0    0.0    0.0    13.0  1584.0  \n",
       "Departure and Arrival Time Convenience   0.0    2.0    3.0     4.0     5.0  \n",
       "Ease of Online Booking                   0.0    2.0    3.0     4.0     5.0  \n",
       "Check-in Service                         0.0    3.0    3.0     4.0     5.0  \n",
       "Online Boarding                          0.0    2.0    3.0     4.0     5.0  \n",
       "Gate Location                            0.0    2.0    3.0     4.0     5.0  \n",
       "On-board Service                         0.0    2.0    4.0     4.0     5.0  \n",
       "Seat Comfort                             0.0    2.0    4.0     5.0     5.0  \n",
       "Leg Room Service                         0.0    2.0    4.0     4.0     5.0  \n",
       "Cleanliness                              0.0    2.0    3.0     4.0     5.0  \n",
       "Food and Drink                           0.0    2.0    3.0     4.0     5.0  \n",
       "In-flight Service                        0.0    3.0    4.0     5.0     5.0  \n",
       "In-flight Wifi Service                   0.0    2.0    3.0     4.0     5.0  \n",
       "In-flight Entertainment                  0.0    2.0    4.0     4.0     5.0  \n",
       "Baggage Handling                         1.0    3.0    4.0     5.0     5.0  "
      ]
     },
     "execution_count": 8,
     "metadata": {},
     "output_type": "execute_result"
    }
   ],
   "source": [
    "data.describe().T # for numerical variable"
   ]
  },
  {
   "cell_type": "code",
   "execution_count": 9,
   "id": "fd3bf3c5",
   "metadata": {},
   "outputs": [
    {
     "data": {
      "text/html": [
       "<div>\n",
       "<style scoped>\n",
       "    .dataframe tbody tr th:only-of-type {\n",
       "        vertical-align: middle;\n",
       "    }\n",
       "\n",
       "    .dataframe tbody tr th {\n",
       "        vertical-align: top;\n",
       "    }\n",
       "\n",
       "    .dataframe thead th {\n",
       "        text-align: right;\n",
       "    }\n",
       "</style>\n",
       "<table border=\"1\" class=\"dataframe\">\n",
       "  <thead>\n",
       "    <tr style=\"text-align: right;\">\n",
       "      <th></th>\n",
       "      <th>Gender</th>\n",
       "      <th>Customer Type</th>\n",
       "      <th>Type of Travel</th>\n",
       "      <th>Class</th>\n",
       "      <th>Satisfaction</th>\n",
       "    </tr>\n",
       "  </thead>\n",
       "  <tbody>\n",
       "    <tr>\n",
       "      <th>count</th>\n",
       "      <td>129880</td>\n",
       "      <td>129880</td>\n",
       "      <td>129880</td>\n",
       "      <td>129880</td>\n",
       "      <td>129880</td>\n",
       "    </tr>\n",
       "    <tr>\n",
       "      <th>unique</th>\n",
       "      <td>2</td>\n",
       "      <td>2</td>\n",
       "      <td>2</td>\n",
       "      <td>3</td>\n",
       "      <td>2</td>\n",
       "    </tr>\n",
       "    <tr>\n",
       "      <th>top</th>\n",
       "      <td>Female</td>\n",
       "      <td>Returning</td>\n",
       "      <td>Business</td>\n",
       "      <td>Business</td>\n",
       "      <td>Neutral or Dissatisfied</td>\n",
       "    </tr>\n",
       "    <tr>\n",
       "      <th>freq</th>\n",
       "      <td>65899</td>\n",
       "      <td>106100</td>\n",
       "      <td>89693</td>\n",
       "      <td>62160</td>\n",
       "      <td>73452</td>\n",
       "    </tr>\n",
       "  </tbody>\n",
       "</table>\n",
       "</div>"
      ],
      "text/plain": [
       "        Gender Customer Type Type of Travel     Class             Satisfaction\n",
       "count   129880        129880         129880    129880                   129880\n",
       "unique       2             2              2         3                        2\n",
       "top     Female     Returning       Business  Business  Neutral or Dissatisfied\n",
       "freq     65899        106100          89693     62160                    73452"
      ]
     },
     "execution_count": 9,
     "metadata": {},
     "output_type": "execute_result"
    }
   ],
   "source": [
    "data.describe(include='object') # for categorical data"
   ]
  },
  {
   "cell_type": "markdown",
   "id": "3471b105",
   "metadata": {},
   "source": [
    "### 0) Find any missing values, and outliers if any in the continuous field"
   ]
  },
  {
   "cell_type": "markdown",
   "id": "3d1f7bd5",
   "metadata": {},
   "source": [
    "## Missing Values\n",
    "#### \tIn order to get the count of missing values in each column, we use the in-built function .isnull().sum()"
   ]
  },
  {
   "cell_type": "code",
   "execution_count": 11,
   "id": "107843f5",
   "metadata": {},
   "outputs": [
    {
     "data": {
      "text/plain": [
       "Gender                                      0\n",
       "Age                                         0\n",
       "Customer Type                               0\n",
       "Type of Travel                              0\n",
       "Class                                       0\n",
       "Flight Distance                             0\n",
       "Departure Delay                             0\n",
       "Arrival Delay                             393\n",
       "Departure and Arrival Time Convenience      0\n",
       "Ease of Online Booking                      0\n",
       "Check-in Service                            0\n",
       "Online Boarding                             0\n",
       "Gate Location                               0\n",
       "On-board Service                            0\n",
       "Seat Comfort                                0\n",
       "Leg Room Service                            0\n",
       "Cleanliness                                 0\n",
       "Food and Drink                              0\n",
       "In-flight Service                           0\n",
       "In-flight Wifi Service                      0\n",
       "In-flight Entertainment                     0\n",
       "Baggage Handling                            0\n",
       "Satisfaction                                0\n",
       "dtype: int64"
      ]
     },
     "execution_count": 11,
     "metadata": {},
     "output_type": "execute_result"
    }
   ],
   "source": [
    "data.isnull().sum() # Checking for missing values"
   ]
  },
  {
   "cell_type": "markdown",
   "id": "1412b99e",
   "metadata": {},
   "source": [
    "There is `393` null value present in column `Arrival Delay`."
   ]
  },
  {
   "cell_type": "code",
   "execution_count": 12,
   "id": "aff4207f",
   "metadata": {},
   "outputs": [],
   "source": [
    "# fill the missing values with the mean value of 'Arrival Delay' using 'fillna()'\n",
    "# mean(): returns the mean Arrival Delay\n",
    "data['Arrival Delay'] = data['Arrival Delay'].fillna(data['Arrival Delay'].mean())"
   ]
  },
  {
   "cell_type": "code",
   "execution_count": 24,
   "id": "289d6ae3",
   "metadata": {},
   "outputs": [
    {
     "data": {
      "text/plain": [
       "Gender                                    0\n",
       "Age                                       0\n",
       "Customer Type                             0\n",
       "Type of Travel                            0\n",
       "Class                                     0\n",
       "Flight Distance                           0\n",
       "Departure Delay                           0\n",
       "Arrival Delay                             0\n",
       "Departure and Arrival Time Convenience    0\n",
       "Ease of Online Booking                    0\n",
       "Check-in Service                          0\n",
       "Online Boarding                           0\n",
       "Gate Location                             0\n",
       "On-board Service                          0\n",
       "Seat Comfort                              0\n",
       "Leg Room Service                          0\n",
       "Cleanliness                               0\n",
       "Food and Drink                            0\n",
       "In-flight Service                         0\n",
       "In-flight Wifi Service                    0\n",
       "In-flight Entertainment                   0\n",
       "Baggage Handling                          0\n",
       "Satisfaction                              0\n",
       "dtype: int64"
      ]
     },
     "execution_count": 24,
     "metadata": {},
     "output_type": "execute_result"
    }
   ],
   "source": [
    "## Check again for null values\n",
    "data.isnull().sum()"
   ]
  },
  {
   "cell_type": "markdown",
   "id": "a342b54e",
   "metadata": {},
   "source": [
    "Now, we obtain the dataset with no missing values."
   ]
  },
  {
   "cell_type": "markdown",
   "id": "da638f99",
   "metadata": {},
   "source": [
    "## Preprocessing"
   ]
  },
  {
   "cell_type": "code",
   "execution_count": 25,
   "id": "ae2d2407",
   "metadata": {},
   "outputs": [
    {
     "data": {
      "text/plain": [
       "{'Gender': ['Male', 'Female'],\n",
       " 'Customer Type': ['First-time', 'Returning'],\n",
       " 'Type of Travel': ['Business', 'Personal'],\n",
       " 'Class': ['Business', 'Economy', 'Economy Plus'],\n",
       " 'Satisfaction': ['Neutral or Dissatisfied', 'Satisfied']}"
      ]
     },
     "execution_count": 25,
     "metadata": {},
     "output_type": "execute_result"
    }
   ],
   "source": [
    "## Check unique values for columns\n",
    "{column: list(data[column].unique()) for column in data.select_dtypes('object').columns}"
   ]
  },
  {
   "cell_type": "code",
   "execution_count": 28,
   "id": "788e5a89",
   "metadata": {},
   "outputs": [],
   "source": [
    "df = pd.get_dummies(data,columns=['Gender','Customer Type','Type of Travel','Class'],drop_first=True)"
   ]
  },
  {
   "cell_type": "code",
   "execution_count": 59,
   "id": "e6bfa368",
   "metadata": {},
   "outputs": [
    {
     "data": {
      "text/html": [
       "<div>\n",
       "<style scoped>\n",
       "    .dataframe tbody tr th:only-of-type {\n",
       "        vertical-align: middle;\n",
       "    }\n",
       "\n",
       "    .dataframe tbody tr th {\n",
       "        vertical-align: top;\n",
       "    }\n",
       "\n",
       "    .dataframe thead th {\n",
       "        text-align: right;\n",
       "    }\n",
       "</style>\n",
       "<table border=\"1\" class=\"dataframe\">\n",
       "  <thead>\n",
       "    <tr style=\"text-align: right;\">\n",
       "      <th></th>\n",
       "      <th>Age</th>\n",
       "      <th>Flight Distance</th>\n",
       "      <th>Departure Delay</th>\n",
       "      <th>Arrival Delay</th>\n",
       "      <th>Departure and Arrival Time Convenience</th>\n",
       "      <th>Ease of Online Booking</th>\n",
       "      <th>Check-in Service</th>\n",
       "      <th>Online Boarding</th>\n",
       "      <th>Gate Location</th>\n",
       "      <th>On-board Service</th>\n",
       "      <th>...</th>\n",
       "      <th>In-flight Service</th>\n",
       "      <th>In-flight Wifi Service</th>\n",
       "      <th>In-flight Entertainment</th>\n",
       "      <th>Baggage Handling</th>\n",
       "      <th>Satisfaction</th>\n",
       "      <th>Gender_Male</th>\n",
       "      <th>Customer Type_Returning</th>\n",
       "      <th>Type of Travel_Personal</th>\n",
       "      <th>Class_Economy</th>\n",
       "      <th>Class_Economy Plus</th>\n",
       "    </tr>\n",
       "  </thead>\n",
       "  <tbody>\n",
       "    <tr>\n",
       "      <th>0</th>\n",
       "      <td>48</td>\n",
       "      <td>821</td>\n",
       "      <td>2.0</td>\n",
       "      <td>5.0</td>\n",
       "      <td>3</td>\n",
       "      <td>3</td>\n",
       "      <td>4</td>\n",
       "      <td>3</td>\n",
       "      <td>3</td>\n",
       "      <td>3</td>\n",
       "      <td>...</td>\n",
       "      <td>5</td>\n",
       "      <td>3</td>\n",
       "      <td>5</td>\n",
       "      <td>5</td>\n",
       "      <td>Neutral or Dissatisfied</td>\n",
       "      <td>1</td>\n",
       "      <td>0</td>\n",
       "      <td>0</td>\n",
       "      <td>0</td>\n",
       "      <td>0</td>\n",
       "    </tr>\n",
       "    <tr>\n",
       "      <th>1</th>\n",
       "      <td>35</td>\n",
       "      <td>821</td>\n",
       "      <td>26.0</td>\n",
       "      <td>39.0</td>\n",
       "      <td>2</td>\n",
       "      <td>2</td>\n",
       "      <td>3</td>\n",
       "      <td>5</td>\n",
       "      <td>2</td>\n",
       "      <td>5</td>\n",
       "      <td>...</td>\n",
       "      <td>5</td>\n",
       "      <td>2</td>\n",
       "      <td>5</td>\n",
       "      <td>5</td>\n",
       "      <td>Satisfied</td>\n",
       "      <td>0</td>\n",
       "      <td>1</td>\n",
       "      <td>0</td>\n",
       "      <td>0</td>\n",
       "      <td>0</td>\n",
       "    </tr>\n",
       "    <tr>\n",
       "      <th>2</th>\n",
       "      <td>41</td>\n",
       "      <td>853</td>\n",
       "      <td>0.0</td>\n",
       "      <td>0.0</td>\n",
       "      <td>4</td>\n",
       "      <td>4</td>\n",
       "      <td>4</td>\n",
       "      <td>5</td>\n",
       "      <td>4</td>\n",
       "      <td>3</td>\n",
       "      <td>...</td>\n",
       "      <td>3</td>\n",
       "      <td>4</td>\n",
       "      <td>3</td>\n",
       "      <td>3</td>\n",
       "      <td>Satisfied</td>\n",
       "      <td>1</td>\n",
       "      <td>1</td>\n",
       "      <td>0</td>\n",
       "      <td>0</td>\n",
       "      <td>0</td>\n",
       "    </tr>\n",
       "    <tr>\n",
       "      <th>3</th>\n",
       "      <td>50</td>\n",
       "      <td>1905</td>\n",
       "      <td>0.0</td>\n",
       "      <td>0.0</td>\n",
       "      <td>2</td>\n",
       "      <td>2</td>\n",
       "      <td>3</td>\n",
       "      <td>4</td>\n",
       "      <td>2</td>\n",
       "      <td>5</td>\n",
       "      <td>...</td>\n",
       "      <td>5</td>\n",
       "      <td>2</td>\n",
       "      <td>5</td>\n",
       "      <td>5</td>\n",
       "      <td>Satisfied</td>\n",
       "      <td>1</td>\n",
       "      <td>1</td>\n",
       "      <td>0</td>\n",
       "      <td>0</td>\n",
       "      <td>0</td>\n",
       "    </tr>\n",
       "    <tr>\n",
       "      <th>4</th>\n",
       "      <td>49</td>\n",
       "      <td>3470</td>\n",
       "      <td>0.0</td>\n",
       "      <td>1.0</td>\n",
       "      <td>3</td>\n",
       "      <td>3</td>\n",
       "      <td>3</td>\n",
       "      <td>5</td>\n",
       "      <td>3</td>\n",
       "      <td>3</td>\n",
       "      <td>...</td>\n",
       "      <td>3</td>\n",
       "      <td>3</td>\n",
       "      <td>3</td>\n",
       "      <td>3</td>\n",
       "      <td>Satisfied</td>\n",
       "      <td>0</td>\n",
       "      <td>1</td>\n",
       "      <td>0</td>\n",
       "      <td>0</td>\n",
       "      <td>0</td>\n",
       "    </tr>\n",
       "  </tbody>\n",
       "</table>\n",
       "<p>5 rows × 24 columns</p>\n",
       "</div>"
      ],
      "text/plain": [
       "   Age  Flight Distance  Departure Delay  Arrival Delay  \\\n",
       "0   48              821              2.0            5.0   \n",
       "1   35              821             26.0           39.0   \n",
       "2   41              853              0.0            0.0   \n",
       "3   50             1905              0.0            0.0   \n",
       "4   49             3470              0.0            1.0   \n",
       "\n",
       "   Departure and Arrival Time Convenience  Ease of Online Booking  \\\n",
       "0                                       3                       3   \n",
       "1                                       2                       2   \n",
       "2                                       4                       4   \n",
       "3                                       2                       2   \n",
       "4                                       3                       3   \n",
       "\n",
       "   Check-in Service  Online Boarding  Gate Location  On-board Service  ...  \\\n",
       "0                 4                3              3                 3  ...   \n",
       "1                 3                5              2                 5  ...   \n",
       "2                 4                5              4                 3  ...   \n",
       "3                 3                4              2                 5  ...   \n",
       "4                 3                5              3                 3  ...   \n",
       "\n",
       "   In-flight Service  In-flight Wifi Service  In-flight Entertainment  \\\n",
       "0                  5                       3                        5   \n",
       "1                  5                       2                        5   \n",
       "2                  3                       4                        3   \n",
       "3                  5                       2                        5   \n",
       "4                  3                       3                        3   \n",
       "\n",
       "   Baggage Handling             Satisfaction  Gender_Male  \\\n",
       "0                 5  Neutral or Dissatisfied            1   \n",
       "1                 5                Satisfied            0   \n",
       "2                 3                Satisfied            1   \n",
       "3                 5                Satisfied            1   \n",
       "4                 3                Satisfied            0   \n",
       "\n",
       "   Customer Type_Returning  Type of Travel_Personal Class_Economy  \\\n",
       "0                        0                        0             0   \n",
       "1                        1                        0             0   \n",
       "2                        1                        0             0   \n",
       "3                        1                        0             0   \n",
       "4                        1                        0             0   \n",
       "\n",
       "   Class_Economy Plus  \n",
       "0                   0  \n",
       "1                   0  \n",
       "2                   0  \n",
       "3                   0  \n",
       "4                   0  \n",
       "\n",
       "[5 rows x 24 columns]"
      ]
     },
     "execution_count": 59,
     "metadata": {},
     "output_type": "execute_result"
    }
   ],
   "source": [
    "df.head()"
   ]
  },
  {
   "cell_type": "code",
   "execution_count": 63,
   "id": "de8bf136",
   "metadata": {},
   "outputs": [],
   "source": [
    "numrical_df = df.copy()"
   ]
  },
  {
   "cell_type": "markdown",
   "id": "f0b96a3f",
   "metadata": {},
   "source": [
    "## Outlier Detection"
   ]
  },
  {
   "cell_type": "code",
   "execution_count": 60,
   "id": "736b635b",
   "metadata": {},
   "outputs": [],
   "source": [
    "X = df.drop('Satisfaction', axis=1).copy()\n",
    "columns = [column for column in X.columns if len(X[column].unique())>2] #select columns having more than 2 unique values"
   ]
  },
  {
   "cell_type": "code",
   "execution_count": 61,
   "id": "be7e9954",
   "metadata": {},
   "outputs": [
    {
     "data": {
      "text/plain": [
       "18"
      ]
     },
     "execution_count": 61,
     "metadata": {},
     "output_type": "execute_result"
    }
   ],
   "source": [
    "len(columns)"
   ]
  },
  {
   "cell_type": "code",
   "execution_count": 62,
   "id": "49ce7871",
   "metadata": {},
   "outputs": [
    {
     "data": {
      "image/png": "[encoded data removed]",
      "text/plain": [
       "<Figure size 1440x1440 with 18 Axes>"
      ]
     },
     "metadata": {
      "needs_background": "light"
     },
     "output_type": "display_data"
    }
   ],
   "source": [
    "# visualizating outliers using boxplot\n",
    "plt.figure(figsize=(20,20))\n",
    "\n",
    "for i, column in enumerate(columns):\n",
    "    plt.subplot(4,5, i+1)\n",
    "    sns.boxplot(data = X[column])\n",
    "    plt.title(column)\n",
    "\n",
    "plt.suptitle('Boxplots with Outliers',size=20)\n",
    "plt.show()"
   ]
  },
  {
   "cell_type": "code",
   "execution_count": 261,
   "id": "790ae86c",
   "metadata": {},
   "outputs": [],
   "source": [
    "threshold = 0.03"
   ]
  },
  {
   "cell_type": "code",
   "execution_count": 262,
   "id": "f62a3cfc",
   "metadata": {},
   "outputs": [
    {
     "data": {
      "text/plain": [
       "-2.1700903775845606"
      ]
     },
     "execution_count": 262,
     "metadata": {},
     "output_type": "execute_result"
    }
   ],
   "source": [
    "lower_bound = scipy.stats.norm.ppf(q=(threshold/2),loc=0,scale=1) \n",
    "lower_bound"
   ]
  },
  {
   "cell_type": "code",
   "execution_count": 263,
   "id": "a7d68879",
   "metadata": {},
   "outputs": [
    {
     "name": "stdout",
     "output_type": "stream",
     "text": [
      "2.17009037758456\n"
     ]
    }
   ],
   "source": [
    "upper_bound = scipy.stats.norm.ppf(q=1-(threshold/2),loc=0,scale=1)\n",
    "print(upper_bound)"
   ]
  },
  {
   "cell_type": "code",
   "execution_count": 64,
   "id": "81566afe",
   "metadata": {},
   "outputs": [],
   "source": [
    "#removing outliers\n",
    "def remove_outliers(df, columns, threshold):\n",
    "    df = df.copy()\n",
    "    # Calculate the lower and upper bond\n",
    "    lower_bound = scipy.stats.norm.ppf(q=(threshold/2),loc=0,scale=1) \n",
    "    print(lower_bound)\n",
    "    upper_bound = scipy.stats.norm.ppf(q=1-(threshold/2),loc=0,scale=1)\n",
    "    print(upper_bound)\n",
    "    # Calcuate z-score\n",
    "    outlier_df = df.loc[:,columns].copy()\n",
    "    z_scores = pd.DataFrame(scipy.stats.zscore(outlier_df,axis=0), index= outlier_df.index, columns=outlier_df.columns)\n",
    "    # get indices of all outliers\n",
    "    lower_outliers = (z_scores < lower_bound).any(axis=1)\n",
    "    upper_outliers = (z_scores >= upper_bound).any(axis=1)\n",
    "    outliers = df[pd.concat([lower_outliers,upper_outliers],axis=1).any(axis=1)].index\n",
    "    \n",
    "    #drop the outliers\n",
    "    df = df.drop(outliers,axis=0).reset_index(drop=True)\n",
    "    return df"
   ]
  },
  {
   "cell_type": "markdown",
   "id": "b34d9a94",
   "metadata": {},
   "source": [
    "`threshold` is giving us where along x-axis are we going to make the cut when we going to say these are outliers and thesea aren't.\n",
    "6% is the part of data that we are looking for outliers."
   ]
  },
  {
   "cell_type": "code",
   "execution_count": 65,
   "id": "7c2d560c",
   "metadata": {},
   "outputs": [
    {
     "name": "stdout",
     "output_type": "stream",
     "text": [
      "-1.880793608151251\n",
      "1.8807936081512509\n"
     ]
    }
   ],
   "source": [
    "removed_outlier_df = remove_outliers(df=df,\n",
    "               columns=['Flight Distance',\n",
    "                       'Departure Delay',\n",
    "                       'Check-in Service',\n",
    "                       'Arrival Delay'],\n",
    "               threshold=0.06)"
   ]
  },
  {
   "cell_type": "code",
   "execution_count": 66,
   "id": "28b5e2d5",
   "metadata": {},
   "outputs": [
    {
     "data": {
      "image/png": "[encoded data removed]",
      "text/plain": [
       "<Figure size 1440x1440 with 18 Axes>"
      ]
     },
     "metadata": {
      "needs_background": "light"
     },
     "output_type": "display_data"
    }
   ],
   "source": [
    "# After removing outliers again visualizing \n",
    "plt.figure(figsize=(20,20))\n",
    "\n",
    "for i, column in enumerate(columns):\n",
    "    plt.subplot(4,5, i+1)\n",
    "    sns.boxplot(data = removed_outlier_df[column])\n",
    "    plt.title(column)\n",
    "\n",
    "plt.suptitle('Boxplots with Outliers',size=20)\n",
    "plt.show()"
   ]
  },
  {
   "cell_type": "markdown",
   "id": "ecbb6ce2",
   "metadata": {},
   "source": [
    "Apply another method using `IQR Method` for removing outliers"
   ]
  },
  {
   "cell_type": "code",
   "execution_count": 252,
   "id": "29bfa29c",
   "metadata": {},
   "outputs": [
    {
     "name": "stdout",
     "output_type": "stream",
     "text": [
      "Age                                         24.0\n",
      "Flight Distance                           1330.0\n",
      "Departure Delay                             12.0\n",
      "Arrival Delay                               13.0\n",
      "Departure and Arrival Time Convenience       2.0\n",
      "Ease of Online Booking                       2.0\n",
      "Check-in Service                             1.0\n",
      "Online Boarding                              2.0\n",
      "Gate Location                                2.0\n",
      "On-board Service                             2.0\n",
      "Seat Comfort                                 3.0\n",
      "Leg Room Service                             2.0\n",
      "Cleanliness                                  2.0\n",
      "Food and Drink                               2.0\n",
      "In-flight Service                            2.0\n",
      "In-flight Wifi Service                       2.0\n",
      "In-flight Entertainment                      2.0\n",
      "Baggage Handling                             2.0\n",
      "Gender_Male                                  1.0\n",
      "Customer Type_Returning                      0.0\n",
      "Type of Travel_Personal                      1.0\n",
      "Class_Economy                                1.0\n",
      "Class_Economy Plus                           0.0\n",
      "dtype: float64\n"
     ]
    }
   ],
   "source": [
    "# calculate interquartile range \n",
    "\n",
    "# compute the first quartile using quantile(0.25)\n",
    "# use .drop() to drop the target variable \n",
    "# axis=1: specifies that the labels are dropped from the columns\n",
    "Q1 = numrical_df.drop(['Satisfaction'], axis=1).quantile(0.25)\n",
    "\n",
    "# compute the first quartile using quantile(0.75)\n",
    "# use .drop() to drop the target variable \n",
    "# axis=1: specifies that the labels are dropped from the columns\n",
    "Q3 = numrical_df.drop(['Satisfaction'], axis=1).quantile(0.75)\n",
    "\n",
    "# calculate of interquartile range \n",
    "IQR = Q3 - Q1\n",
    "\n",
    "# print the IQR values for numeric variables\n",
    "print(IQR)"
   ]
  },
  {
   "cell_type": "code",
   "execution_count": 250,
   "id": "1f3131e5",
   "metadata": {},
   "outputs": [
    {
     "data": {
      "text/html": [
       "<div>\n",
       "<style scoped>\n",
       "    .dataframe tbody tr th:only-of-type {\n",
       "        vertical-align: middle;\n",
       "    }\n",
       "\n",
       "    .dataframe tbody tr th {\n",
       "        vertical-align: top;\n",
       "    }\n",
       "\n",
       "    .dataframe thead th {\n",
       "        text-align: right;\n",
       "    }\n",
       "</style>\n",
       "<table border=\"1\" class=\"dataframe\">\n",
       "  <thead>\n",
       "    <tr style=\"text-align: right;\">\n",
       "      <th></th>\n",
       "      <th>Age</th>\n",
       "      <th>Flight Distance</th>\n",
       "      <th>Departure Delay</th>\n",
       "      <th>Arrival Delay</th>\n",
       "      <th>Departure and Arrival Time Convenience</th>\n",
       "      <th>Ease of Online Booking</th>\n",
       "      <th>Check-in Service</th>\n",
       "      <th>Online Boarding</th>\n",
       "      <th>Gate Location</th>\n",
       "      <th>On-board Service</th>\n",
       "      <th>...</th>\n",
       "      <th>In-flight Service</th>\n",
       "      <th>In-flight Wifi Service</th>\n",
       "      <th>In-flight Entertainment</th>\n",
       "      <th>Baggage Handling</th>\n",
       "      <th>Satisfaction</th>\n",
       "      <th>Gender_Male</th>\n",
       "      <th>Customer Type_Returning</th>\n",
       "      <th>Type of Travel_Personal</th>\n",
       "      <th>Class_Economy</th>\n",
       "      <th>Class_Economy Plus</th>\n",
       "    </tr>\n",
       "  </thead>\n",
       "  <tbody>\n",
       "    <tr>\n",
       "      <th>2</th>\n",
       "      <td>41</td>\n",
       "      <td>853</td>\n",
       "      <td>0.0</td>\n",
       "      <td>0.0</td>\n",
       "      <td>4</td>\n",
       "      <td>4</td>\n",
       "      <td>4</td>\n",
       "      <td>5</td>\n",
       "      <td>4</td>\n",
       "      <td>3</td>\n",
       "      <td>...</td>\n",
       "      <td>3</td>\n",
       "      <td>4</td>\n",
       "      <td>3</td>\n",
       "      <td>3</td>\n",
       "      <td>Satisfied</td>\n",
       "      <td>1</td>\n",
       "      <td>1</td>\n",
       "      <td>0</td>\n",
       "      <td>0</td>\n",
       "      <td>0</td>\n",
       "    </tr>\n",
       "    <tr>\n",
       "      <th>3</th>\n",
       "      <td>50</td>\n",
       "      <td>1905</td>\n",
       "      <td>0.0</td>\n",
       "      <td>0.0</td>\n",
       "      <td>2</td>\n",
       "      <td>2</td>\n",
       "      <td>3</td>\n",
       "      <td>4</td>\n",
       "      <td>2</td>\n",
       "      <td>5</td>\n",
       "      <td>...</td>\n",
       "      <td>5</td>\n",
       "      <td>2</td>\n",
       "      <td>5</td>\n",
       "      <td>5</td>\n",
       "      <td>Satisfied</td>\n",
       "      <td>1</td>\n",
       "      <td>1</td>\n",
       "      <td>0</td>\n",
       "      <td>0</td>\n",
       "      <td>0</td>\n",
       "    </tr>\n",
       "    <tr>\n",
       "      <th>4</th>\n",
       "      <td>49</td>\n",
       "      <td>3470</td>\n",
       "      <td>0.0</td>\n",
       "      <td>1.0</td>\n",
       "      <td>3</td>\n",
       "      <td>3</td>\n",
       "      <td>3</td>\n",
       "      <td>5</td>\n",
       "      <td>3</td>\n",
       "      <td>3</td>\n",
       "      <td>...</td>\n",
       "      <td>3</td>\n",
       "      <td>3</td>\n",
       "      <td>3</td>\n",
       "      <td>3</td>\n",
       "      <td>Satisfied</td>\n",
       "      <td>0</td>\n",
       "      <td>1</td>\n",
       "      <td>0</td>\n",
       "      <td>0</td>\n",
       "      <td>0</td>\n",
       "    </tr>\n",
       "    <tr>\n",
       "      <th>6</th>\n",
       "      <td>43</td>\n",
       "      <td>1963</td>\n",
       "      <td>0.0</td>\n",
       "      <td>0.0</td>\n",
       "      <td>3</td>\n",
       "      <td>3</td>\n",
       "      <td>4</td>\n",
       "      <td>4</td>\n",
       "      <td>3</td>\n",
       "      <td>5</td>\n",
       "      <td>...</td>\n",
       "      <td>5</td>\n",
       "      <td>3</td>\n",
       "      <td>5</td>\n",
       "      <td>5</td>\n",
       "      <td>Satisfied</td>\n",
       "      <td>1</td>\n",
       "      <td>1</td>\n",
       "      <td>0</td>\n",
       "      <td>0</td>\n",
       "      <td>0</td>\n",
       "    </tr>\n",
       "    <tr>\n",
       "      <th>7</th>\n",
       "      <td>60</td>\n",
       "      <td>853</td>\n",
       "      <td>0.0</td>\n",
       "      <td>3.0</td>\n",
       "      <td>3</td>\n",
       "      <td>4</td>\n",
       "      <td>3</td>\n",
       "      <td>4</td>\n",
       "      <td>4</td>\n",
       "      <td>3</td>\n",
       "      <td>...</td>\n",
       "      <td>3</td>\n",
       "      <td>4</td>\n",
       "      <td>3</td>\n",
       "      <td>3</td>\n",
       "      <td>Satisfied</td>\n",
       "      <td>0</td>\n",
       "      <td>1</td>\n",
       "      <td>0</td>\n",
       "      <td>0</td>\n",
       "      <td>0</td>\n",
       "    </tr>\n",
       "    <tr>\n",
       "      <th>...</th>\n",
       "      <td>...</td>\n",
       "      <td>...</td>\n",
       "      <td>...</td>\n",
       "      <td>...</td>\n",
       "      <td>...</td>\n",
       "      <td>...</td>\n",
       "      <td>...</td>\n",
       "      <td>...</td>\n",
       "      <td>...</td>\n",
       "      <td>...</td>\n",
       "      <td>...</td>\n",
       "      <td>...</td>\n",
       "      <td>...</td>\n",
       "      <td>...</td>\n",
       "      <td>...</td>\n",
       "      <td>...</td>\n",
       "      <td>...</td>\n",
       "      <td>...</td>\n",
       "      <td>...</td>\n",
       "      <td>...</td>\n",
       "      <td>...</td>\n",
       "    </tr>\n",
       "    <tr>\n",
       "      <th>129860</th>\n",
       "      <td>30</td>\n",
       "      <td>337</td>\n",
       "      <td>0.0</td>\n",
       "      <td>0.0</td>\n",
       "      <td>2</td>\n",
       "      <td>2</td>\n",
       "      <td>4</td>\n",
       "      <td>5</td>\n",
       "      <td>2</td>\n",
       "      <td>3</td>\n",
       "      <td>...</td>\n",
       "      <td>4</td>\n",
       "      <td>2</td>\n",
       "      <td>5</td>\n",
       "      <td>5</td>\n",
       "      <td>Satisfied</td>\n",
       "      <td>0</td>\n",
       "      <td>1</td>\n",
       "      <td>0</td>\n",
       "      <td>0</td>\n",
       "      <td>0</td>\n",
       "    </tr>\n",
       "    <tr>\n",
       "      <th>129861</th>\n",
       "      <td>39</td>\n",
       "      <td>2667</td>\n",
       "      <td>1.0</td>\n",
       "      <td>0.0</td>\n",
       "      <td>0</td>\n",
       "      <td>0</td>\n",
       "      <td>5</td>\n",
       "      <td>5</td>\n",
       "      <td>1</td>\n",
       "      <td>3</td>\n",
       "      <td>...</td>\n",
       "      <td>3</td>\n",
       "      <td>0</td>\n",
       "      <td>3</td>\n",
       "      <td>3</td>\n",
       "      <td>Satisfied</td>\n",
       "      <td>0</td>\n",
       "      <td>1</td>\n",
       "      <td>0</td>\n",
       "      <td>0</td>\n",
       "      <td>0</td>\n",
       "    </tr>\n",
       "    <tr>\n",
       "      <th>129862</th>\n",
       "      <td>51</td>\n",
       "      <td>308</td>\n",
       "      <td>0.0</td>\n",
       "      <td>0.0</td>\n",
       "      <td>4</td>\n",
       "      <td>4</td>\n",
       "      <td>4</td>\n",
       "      <td>5</td>\n",
       "      <td>4</td>\n",
       "      <td>5</td>\n",
       "      <td>...</td>\n",
       "      <td>5</td>\n",
       "      <td>4</td>\n",
       "      <td>5</td>\n",
       "      <td>5</td>\n",
       "      <td>Satisfied</td>\n",
       "      <td>1</td>\n",
       "      <td>1</td>\n",
       "      <td>0</td>\n",
       "      <td>0</td>\n",
       "      <td>0</td>\n",
       "    </tr>\n",
       "    <tr>\n",
       "      <th>129863</th>\n",
       "      <td>39</td>\n",
       "      <td>2747</td>\n",
       "      <td>0.0</td>\n",
       "      <td>0.0</td>\n",
       "      <td>1</td>\n",
       "      <td>5</td>\n",
       "      <td>3</td>\n",
       "      <td>4</td>\n",
       "      <td>1</td>\n",
       "      <td>5</td>\n",
       "      <td>...</td>\n",
       "      <td>5</td>\n",
       "      <td>1</td>\n",
       "      <td>5</td>\n",
       "      <td>5</td>\n",
       "      <td>Satisfied</td>\n",
       "      <td>0</td>\n",
       "      <td>1</td>\n",
       "      <td>0</td>\n",
       "      <td>0</td>\n",
       "      <td>0</td>\n",
       "    </tr>\n",
       "    <tr>\n",
       "      <th>129864</th>\n",
       "      <td>38</td>\n",
       "      <td>2740</td>\n",
       "      <td>0.0</td>\n",
       "      <td>0.0</td>\n",
       "      <td>3</td>\n",
       "      <td>3</td>\n",
       "      <td>4</td>\n",
       "      <td>5</td>\n",
       "      <td>3</td>\n",
       "      <td>5</td>\n",
       "      <td>...</td>\n",
       "      <td>5</td>\n",
       "      <td>3</td>\n",
       "      <td>5</td>\n",
       "      <td>5</td>\n",
       "      <td>Satisfied</td>\n",
       "      <td>1</td>\n",
       "      <td>1</td>\n",
       "      <td>0</td>\n",
       "      <td>0</td>\n",
       "      <td>0</td>\n",
       "    </tr>\n",
       "  </tbody>\n",
       "</table>\n",
       "<p>70608 rows × 24 columns</p>\n",
       "</div>"
      ],
      "text/plain": [
       "        Age  Flight Distance  Departure Delay  Arrival Delay  \\\n",
       "2        41              853              0.0            0.0   \n",
       "3        50             1905              0.0            0.0   \n",
       "4        49             3470              0.0            1.0   \n",
       "6        43             1963              0.0            0.0   \n",
       "7        60              853              0.0            3.0   \n",
       "...     ...              ...              ...            ...   \n",
       "129860   30              337              0.0            0.0   \n",
       "129861   39             2667              1.0            0.0   \n",
       "129862   51              308              0.0            0.0   \n",
       "129863   39             2747              0.0            0.0   \n",
       "129864   38             2740              0.0            0.0   \n",
       "\n",
       "        Departure and Arrival Time Convenience  Ease of Online Booking  \\\n",
       "2                                            4                       4   \n",
       "3                                            2                       2   \n",
       "4                                            3                       3   \n",
       "6                                            3                       3   \n",
       "7                                            3                       4   \n",
       "...                                        ...                     ...   \n",
       "129860                                       2                       2   \n",
       "129861                                       0                       0   \n",
       "129862                                       4                       4   \n",
       "129863                                       1                       5   \n",
       "129864                                       3                       3   \n",
       "\n",
       "        Check-in Service  Online Boarding  Gate Location  On-board Service  \\\n",
       "2                      4                5              4                 3   \n",
       "3                      3                4              2                 5   \n",
       "4                      3                5              3                 3   \n",
       "6                      4                4              3                 5   \n",
       "7                      3                4              4                 3   \n",
       "...                  ...              ...            ...               ...   \n",
       "129860                 4                5              2                 3   \n",
       "129861                 5                5              1                 3   \n",
       "129862                 4                5              4                 5   \n",
       "129863                 3                4              1                 5   \n",
       "129864                 4                5              3                 5   \n",
       "\n",
       "        ...  In-flight Service  In-flight Wifi Service  \\\n",
       "2       ...                  3                       4   \n",
       "3       ...                  5                       2   \n",
       "4       ...                  3                       3   \n",
       "6       ...                  5                       3   \n",
       "7       ...                  3                       4   \n",
       "...     ...                ...                     ...   \n",
       "129860  ...                  4                       2   \n",
       "129861  ...                  3                       0   \n",
       "129862  ...                  5                       4   \n",
       "129863  ...                  5                       1   \n",
       "129864  ...                  5                       3   \n",
       "\n",
       "        In-flight Entertainment  Baggage Handling  Satisfaction  Gender_Male  \\\n",
       "2                             3                 3     Satisfied            1   \n",
       "3                             5                 5     Satisfied            1   \n",
       "4                             3                 3     Satisfied            0   \n",
       "6                             5                 5     Satisfied            1   \n",
       "7                             3                 3     Satisfied            0   \n",
       "...                         ...               ...           ...          ...   \n",
       "129860                        5                 5     Satisfied            0   \n",
       "129861                        3                 3     Satisfied            0   \n",
       "129862                        5                 5     Satisfied            1   \n",
       "129863                        5                 5     Satisfied            0   \n",
       "129864                        5                 5     Satisfied            1   \n",
       "\n",
       "        Customer Type_Returning  Type of Travel_Personal Class_Economy  \\\n",
       "2                             1                        0             0   \n",
       "3                             1                        0             0   \n",
       "4                             1                        0             0   \n",
       "6                             1                        0             0   \n",
       "7                             1                        0             0   \n",
       "...                         ...                      ...           ...   \n",
       "129860                        1                        0             0   \n",
       "129861                        1                        0             0   \n",
       "129862                        1                        0             0   \n",
       "129863                        1                        0             0   \n",
       "129864                        1                        0             0   \n",
       "\n",
       "        Class_Economy Plus  \n",
       "2                        0  \n",
       "3                        0  \n",
       "4                        0  \n",
       "6                        0  \n",
       "7                        0  \n",
       "...                    ...  \n",
       "129860                   0  \n",
       "129861                   0  \n",
       "129862                   0  \n",
       "129863                   0  \n",
       "129864                   0  \n",
       "\n",
       "[70608 rows x 24 columns]"
      ]
     },
     "execution_count": 250,
     "metadata": {},
     "output_type": "execute_result"
    }
   ],
   "source": [
    "# filter out the outlier values\n",
    "# ~ : selects all rows which do not satisfy the condition\n",
    "# |: bitwise operator OR in python\n",
    "# any() : returns whether any element is True over the columns\n",
    "# axis : \"1\" indicates columns should be altered (use \"0\" for 'index')\n",
    "df1 = numrical_df[~((numrical_df < (Q1 - 1.5 * IQR)) | (numrical_df > (Q3 + 1.5 * IQR))).any(axis=1)]\n",
    "df1"
   ]
  },
  {
   "cell_type": "code",
   "execution_count": 69,
   "id": "dab984fe",
   "metadata": {},
   "outputs": [
    {
     "data": {
      "text/plain": [
       "(129880, 24)"
      ]
     },
     "execution_count": 69,
     "metadata": {},
     "output_type": "execute_result"
    }
   ],
   "source": [
    "numrical_df.shape"
   ]
  },
  {
   "cell_type": "code",
   "execution_count": 71,
   "id": "2b4f8ae7",
   "metadata": {},
   "outputs": [
    {
     "data": {
      "text/plain": [
       "(70608, 24)"
      ]
     },
     "execution_count": 71,
     "metadata": {},
     "output_type": "execute_result"
    }
   ],
   "source": [
    "df1.shape"
   ]
  },
  {
   "cell_type": "code",
   "execution_count": 124,
   "id": "2d8c8328",
   "metadata": {},
   "outputs": [],
   "source": [
    "# final data \n",
    "final_df = removed_outlier_df.copy()"
   ]
  },
  {
   "cell_type": "code",
   "execution_count": 125,
   "id": "5308fc2e",
   "metadata": {},
   "outputs": [],
   "source": [
    "final_df['Satisfaction'] = final_df['Satisfaction'].replace({'Neutral or Dissatisfied':0,'Satisfied':1})"
   ]
  },
  {
   "cell_type": "markdown",
   "id": "9daf6b68",
   "metadata": {},
   "source": [
    "##### After removing outliers we will check shape of dimension of the data "
   ]
  },
  {
   "cell_type": "code",
   "execution_count": 126,
   "id": "504d1e00",
   "metadata": {},
   "outputs": [
    {
     "data": {
      "text/plain": [
       "(129880, 24)"
      ]
     },
     "execution_count": 126,
     "metadata": {},
     "output_type": "execute_result"
    }
   ],
   "source": [
    "df.shape"
   ]
  },
  {
   "cell_type": "code",
   "execution_count": 127,
   "id": "be81fe76",
   "metadata": {},
   "outputs": [
    {
     "data": {
      "text/plain": [
       "(114496, 24)"
      ]
     },
     "execution_count": 127,
     "metadata": {},
     "output_type": "execute_result"
    }
   ],
   "source": [
    "final_df.shape"
   ]
  },
  {
   "cell_type": "code",
   "execution_count": 128,
   "id": "16269f0e",
   "metadata": {},
   "outputs": [
    {
     "data": {
      "text/html": [
       "<div>\n",
       "<style scoped>\n",
       "    .dataframe tbody tr th:only-of-type {\n",
       "        vertical-align: middle;\n",
       "    }\n",
       "\n",
       "    .dataframe tbody tr th {\n",
       "        vertical-align: top;\n",
       "    }\n",
       "\n",
       "    .dataframe thead th {\n",
       "        text-align: right;\n",
       "    }\n",
       "</style>\n",
       "<table border=\"1\" class=\"dataframe\">\n",
       "  <thead>\n",
       "    <tr style=\"text-align: right;\">\n",
       "      <th></th>\n",
       "      <th>Age</th>\n",
       "      <th>Flight Distance</th>\n",
       "      <th>Departure Delay</th>\n",
       "      <th>Arrival Delay</th>\n",
       "      <th>Departure and Arrival Time Convenience</th>\n",
       "      <th>Ease of Online Booking</th>\n",
       "      <th>Check-in Service</th>\n",
       "      <th>Online Boarding</th>\n",
       "      <th>Gate Location</th>\n",
       "      <th>On-board Service</th>\n",
       "      <th>...</th>\n",
       "      <th>In-flight Service</th>\n",
       "      <th>In-flight Wifi Service</th>\n",
       "      <th>In-flight Entertainment</th>\n",
       "      <th>Baggage Handling</th>\n",
       "      <th>Satisfaction</th>\n",
       "      <th>Gender_Male</th>\n",
       "      <th>Customer Type_Returning</th>\n",
       "      <th>Type of Travel_Personal</th>\n",
       "      <th>Class_Economy</th>\n",
       "      <th>Class_Economy Plus</th>\n",
       "    </tr>\n",
       "  </thead>\n",
       "  <tbody>\n",
       "    <tr>\n",
       "      <th>0</th>\n",
       "      <td>48</td>\n",
       "      <td>821</td>\n",
       "      <td>2.0</td>\n",
       "      <td>5.0</td>\n",
       "      <td>3</td>\n",
       "      <td>3</td>\n",
       "      <td>4</td>\n",
       "      <td>3</td>\n",
       "      <td>3</td>\n",
       "      <td>3</td>\n",
       "      <td>...</td>\n",
       "      <td>5</td>\n",
       "      <td>3</td>\n",
       "      <td>5</td>\n",
       "      <td>5</td>\n",
       "      <td>0</td>\n",
       "      <td>1</td>\n",
       "      <td>0</td>\n",
       "      <td>0</td>\n",
       "      <td>0</td>\n",
       "      <td>0</td>\n",
       "    </tr>\n",
       "    <tr>\n",
       "      <th>1</th>\n",
       "      <td>35</td>\n",
       "      <td>821</td>\n",
       "      <td>26.0</td>\n",
       "      <td>39.0</td>\n",
       "      <td>2</td>\n",
       "      <td>2</td>\n",
       "      <td>3</td>\n",
       "      <td>5</td>\n",
       "      <td>2</td>\n",
       "      <td>5</td>\n",
       "      <td>...</td>\n",
       "      <td>5</td>\n",
       "      <td>2</td>\n",
       "      <td>5</td>\n",
       "      <td>5</td>\n",
       "      <td>1</td>\n",
       "      <td>0</td>\n",
       "      <td>1</td>\n",
       "      <td>0</td>\n",
       "      <td>0</td>\n",
       "      <td>0</td>\n",
       "    </tr>\n",
       "    <tr>\n",
       "      <th>2</th>\n",
       "      <td>41</td>\n",
       "      <td>853</td>\n",
       "      <td>0.0</td>\n",
       "      <td>0.0</td>\n",
       "      <td>4</td>\n",
       "      <td>4</td>\n",
       "      <td>4</td>\n",
       "      <td>5</td>\n",
       "      <td>4</td>\n",
       "      <td>3</td>\n",
       "      <td>...</td>\n",
       "      <td>3</td>\n",
       "      <td>4</td>\n",
       "      <td>3</td>\n",
       "      <td>3</td>\n",
       "      <td>1</td>\n",
       "      <td>1</td>\n",
       "      <td>1</td>\n",
       "      <td>0</td>\n",
       "      <td>0</td>\n",
       "      <td>0</td>\n",
       "    </tr>\n",
       "    <tr>\n",
       "      <th>3</th>\n",
       "      <td>50</td>\n",
       "      <td>1905</td>\n",
       "      <td>0.0</td>\n",
       "      <td>0.0</td>\n",
       "      <td>2</td>\n",
       "      <td>2</td>\n",
       "      <td>3</td>\n",
       "      <td>4</td>\n",
       "      <td>2</td>\n",
       "      <td>5</td>\n",
       "      <td>...</td>\n",
       "      <td>5</td>\n",
       "      <td>2</td>\n",
       "      <td>5</td>\n",
       "      <td>5</td>\n",
       "      <td>1</td>\n",
       "      <td>1</td>\n",
       "      <td>1</td>\n",
       "      <td>0</td>\n",
       "      <td>0</td>\n",
       "      <td>0</td>\n",
       "    </tr>\n",
       "    <tr>\n",
       "      <th>4</th>\n",
       "      <td>43</td>\n",
       "      <td>1963</td>\n",
       "      <td>0.0</td>\n",
       "      <td>0.0</td>\n",
       "      <td>3</td>\n",
       "      <td>3</td>\n",
       "      <td>4</td>\n",
       "      <td>4</td>\n",
       "      <td>3</td>\n",
       "      <td>5</td>\n",
       "      <td>...</td>\n",
       "      <td>5</td>\n",
       "      <td>3</td>\n",
       "      <td>5</td>\n",
       "      <td>5</td>\n",
       "      <td>1</td>\n",
       "      <td>1</td>\n",
       "      <td>1</td>\n",
       "      <td>0</td>\n",
       "      <td>0</td>\n",
       "      <td>0</td>\n",
       "    </tr>\n",
       "  </tbody>\n",
       "</table>\n",
       "<p>5 rows × 24 columns</p>\n",
       "</div>"
      ],
      "text/plain": [
       "   Age  Flight Distance  Departure Delay  Arrival Delay  \\\n",
       "0   48              821              2.0            5.0   \n",
       "1   35              821             26.0           39.0   \n",
       "2   41              853              0.0            0.0   \n",
       "3   50             1905              0.0            0.0   \n",
       "4   43             1963              0.0            0.0   \n",
       "\n",
       "   Departure and Arrival Time Convenience  Ease of Online Booking  \\\n",
       "0                                       3                       3   \n",
       "1                                       2                       2   \n",
       "2                                       4                       4   \n",
       "3                                       2                       2   \n",
       "4                                       3                       3   \n",
       "\n",
       "   Check-in Service  Online Boarding  Gate Location  On-board Service  ...  \\\n",
       "0                 4                3              3                 3  ...   \n",
       "1                 3                5              2                 5  ...   \n",
       "2                 4                5              4                 3  ...   \n",
       "3                 3                4              2                 5  ...   \n",
       "4                 4                4              3                 5  ...   \n",
       "\n",
       "   In-flight Service  In-flight Wifi Service  In-flight Entertainment  \\\n",
       "0                  5                       3                        5   \n",
       "1                  5                       2                        5   \n",
       "2                  3                       4                        3   \n",
       "3                  5                       2                        5   \n",
       "4                  5                       3                        5   \n",
       "\n",
       "   Baggage Handling  Satisfaction  Gender_Male  Customer Type_Returning  \\\n",
       "0                 5             0            1                        0   \n",
       "1                 5             1            0                        1   \n",
       "2                 3             1            1                        1   \n",
       "3                 5             1            1                        1   \n",
       "4                 5             1            1                        1   \n",
       "\n",
       "   Type of Travel_Personal  Class_Economy  Class_Economy Plus  \n",
       "0                        0              0                   0  \n",
       "1                        0              0                   0  \n",
       "2                        0              0                   0  \n",
       "3                        0              0                   0  \n",
       "4                        0              0                   0  \n",
       "\n",
       "[5 rows x 24 columns]"
      ]
     },
     "execution_count": 128,
     "metadata": {},
     "output_type": "execute_result"
    }
   ],
   "source": [
    "final_df.head()"
   ]
  },
  {
   "cell_type": "markdown",
   "id": "1c46ff05",
   "metadata": {},
   "source": [
    "## Check for Normailty"
   ]
  },
  {
   "cell_type": "markdown",
   "id": "a1387bc0",
   "metadata": {},
   "source": [
    "    As per data information we have only `Age`,`Flight distance`, `Departure Delay`, `Arrival Delay` having continuous nature in data,\n",
    "    so we will check for these features only."
   ]
  },
  {
   "cell_type": "code",
   "execution_count": 129,
   "id": "314d9821",
   "metadata": {},
   "outputs": [
    {
     "data": {
      "image/png": "[encoded data removed]",
      "text/plain": [
       "<Figure size 1080x432 with 1 Axes>"
      ]
     },
     "metadata": {
      "needs_background": "light"
     },
     "output_type": "display_data"
    }
   ],
   "source": [
    "## check for normality of continuous variables using histgrom plot\n",
    "# For Age \n",
    "plt.figure(figsize=(15,6))\n",
    "final_df.Age.hist()\n",
    "plt.show()"
   ]
  },
  {
   "cell_type": "code",
   "execution_count": 130,
   "id": "bfad6468",
   "metadata": {},
   "outputs": [
    {
     "data": {
      "image/png": "[encoded data removed]",
      "text/plain": [
       "<Figure size 1080x432 with 1 Axes>"
      ]
     },
     "metadata": {
      "needs_background": "light"
     },
     "output_type": "display_data"
    }
   ],
   "source": [
    "# for Flight Distance\n",
    "plt.figure(figsize=(15,6))\n",
    "final_df['Flight Distance'].hist()\n",
    "plt.show()"
   ]
  },
  {
   "cell_type": "markdown",
   "id": "59a42551",
   "metadata": {},
   "source": [
    "After visulazing hsitogram plot, we can say that flight distance feature having right-skewed in nature"
   ]
  },
  {
   "cell_type": "code",
   "execution_count": 131,
   "id": "f21485f4",
   "metadata": {},
   "outputs": [
    {
     "data": {
      "image/png": "[encoded data removed]",
      "text/plain": [
       "<Figure size 1080x432 with 1 Axes>"
      ]
     },
     "metadata": {
      "needs_background": "light"
     },
     "output_type": "display_data"
    }
   ],
   "source": [
    "# for Departure Delay\n",
    "plt.figure(figsize=(15,6))\n",
    "final_df['Departure Delay'].hist()\n",
    "plt.show()"
   ]
  },
  {
   "cell_type": "markdown",
   "id": "cf3d18b3",
   "metadata": {},
   "source": [
    "After visulazing hsitogram plot, we can say that Departure Delay feature having right-skewed in nature"
   ]
  },
  {
   "cell_type": "code",
   "execution_count": 132,
   "id": "42294762",
   "metadata": {},
   "outputs": [
    {
     "data": {
      "image/png": "[encoded data removed]",
      "text/plain": [
       "<Figure size 1080x432 with 1 Axes>"
      ]
     },
     "metadata": {
      "needs_background": "light"
     },
     "output_type": "display_data"
    }
   ],
   "source": [
    "# for Arrival Delay\n",
    "plt.figure(figsize=(15,6))\n",
    "final_df['Arrival Delay'].hist()\n",
    "plt.show()"
   ]
  },
  {
   "cell_type": "markdown",
   "id": "2bcaafb5",
   "metadata": {},
   "source": [
    "After visulazing hsitogram plot, we can say that Arrival Delay feature having right-skewed in nature"
   ]
  },
  {
   "cell_type": "markdown",
   "id": "6c1f17b5",
   "metadata": {},
   "source": [
    "#### We should not only make conclusions through visual representations or only using a statistical test but perform multiple ways to get the best insights"
   ]
  },
  {
   "cell_type": "code",
   "execution_count": 133,
   "id": "490f04ba",
   "metadata": {},
   "outputs": [
    {
     "name": "stdout",
     "output_type": "stream",
     "text": [
      "Statistics=2684.631, p-value=0.000\n",
      "The data is not normally distributed (reject H0)\n"
     ]
    }
   ],
   "source": [
    "from scipy.stats import jarque_bera\n",
    "from scipy import stats\n",
    "## Let us perform the Jarque-Bera test to check the normality\n",
    "# normality test using jarque_bera()\n",
    "# the test returns the the test statistics and the p-value of the test\n",
    "stat, p = jarque_bera(final_df[\"Age\"])\n",
    "\n",
    "# to print the numeric outputs of the Jarque-Bera test upto 3 decimal places\n",
    "# %.3f: returns the a floating point with 3 decimal digit accuracy\n",
    "# the '%' holds the place where the number is to be printed\n",
    "print('Statistics=%.3f, p-value=%.3f' % (stat, p))\n",
    "\n",
    "# display the conclusion\n",
    "# set the level of significance to 0.05\n",
    "alpha = 0.05\n",
    "\n",
    "# if the p-value is greater than alpha print we accept alpha \n",
    "# if the p-value is less than alpha print we reject alpha\n",
    "if p > alpha:\n",
    "    print('The data is normally distributed (fail to reject H0)')\n",
    "else:\n",
    "    print('The data is not normally distributed (reject H0)')"
   ]
  },
  {
   "cell_type": "code",
   "execution_count": 134,
   "id": "34926f60",
   "metadata": {},
   "outputs": [
    {
     "name": "stdout",
     "output_type": "stream",
     "text": [
      "Statistics=17378.421, p-value=0.000\n",
      "The data is not normally distributed (reject H0)\n"
     ]
    }
   ],
   "source": [
    "stat, p = jarque_bera(final_df[\"Flight Distance\"])\n",
    "print('Statistics=%.3f, p-value=%.3f' % (stat, p))\n",
    "alpha = 0.05\n",
    "if p > alpha:\n",
    "    print('The data is normally distributed (fail to reject H0)')\n",
    "else:\n",
    "    print('The data is not normally distributed (reject H0)')"
   ]
  },
  {
   "cell_type": "code",
   "execution_count": 135,
   "id": "5baa920a",
   "metadata": {},
   "outputs": [
    {
     "name": "stdout",
     "output_type": "stream",
     "text": [
      "Statistics=283038.162, p-value=0.000\n",
      "The data is not normally distributed (reject H0)\n"
     ]
    }
   ],
   "source": [
    "stat, p = jarque_bera(final_df[\"Departure Delay\"])\n",
    "print('Statistics=%.3f, p-value=%.3f' % (stat, p))\n",
    "alpha = 0.05\n",
    "if p > alpha:\n",
    "    print('The data is normally distributed (fail to reject H0)')\n",
    "else:\n",
    "    print('The data is not normally distributed (reject H0)')"
   ]
  },
  {
   "cell_type": "code",
   "execution_count": 136,
   "id": "6b57d0b6",
   "metadata": {},
   "outputs": [
    {
     "name": "stdout",
     "output_type": "stream",
     "text": [
      "Statistics=253483.168, p-value=0.000\n",
      "The data is not normally distributed (reject H0)\n"
     ]
    }
   ],
   "source": [
    "stat, p = jarque_bera(final_df[\"Arrival Delay\"])\n",
    "print('Statistics=%.3f, p-value=%.3f' % (stat, p))\n",
    "alpha = 0.05\n",
    "if p > alpha:\n",
    "    print('The data is normally distributed (fail to reject H0)')\n",
    "else:\n",
    "    print('The data is not normally distributed (reject H0)')"
   ]
  },
  {
   "cell_type": "markdown",
   "id": "4f929e62",
   "metadata": {},
   "source": [
    "Now we already checked contiuous nature feature is not normally distributed. \n",
    "To make normally distributed we will apply `log` in each feature."
   ]
  },
  {
   "cell_type": "markdown",
   "id": "50e8976c",
   "metadata": {},
   "source": [
    "# log transformation for normality using np.log()\n",
    "final_df['log_age'] = np.log(final_df['Age'])\n",
    "final_df['log_flight_distance'] = np.log(final_df['Flight Distance'])\n",
    "final_df['log_departure_delay'] = np.log(final_df['Departure Delay'])\n",
    "final_df['log_arrival_delay'] = np.log(final_df['Arrival Delay'])"
   ]
  },
  {
   "cell_type": "markdown",
   "id": "2d1078b9",
   "metadata": {},
   "source": [
    "## Spliting Train and Test Data"
   ]
  },
  {
   "cell_type": "code",
   "execution_count": 176,
   "id": "6c986fe5",
   "metadata": {},
   "outputs": [],
   "source": [
    "X = final_df.drop('Satisfaction',axis=1)\n",
    "y = final_df['Satisfaction']"
   ]
  },
  {
   "cell_type": "code",
   "execution_count": 177,
   "id": "1cabc3b1",
   "metadata": {},
   "outputs": [],
   "source": [
    "from sklearn.preprocessing import StandardScaler\n",
    "sc = StandardScaler()"
   ]
  },
  {
   "cell_type": "code",
   "execution_count": 178,
   "id": "0d1046fe",
   "metadata": {},
   "outputs": [],
   "source": [
    "from sklearn.model_selection import train_test_split\n",
    "X_train,X_test,y_train,y_test = train_test_split(X,y,test_size=0.1) # splitting data into 90:10 parts"
   ]
  },
  {
   "cell_type": "code",
   "execution_count": 179,
   "id": "25d9391e",
   "metadata": {},
   "outputs": [],
   "source": [
    "X_train = sc.fit_transform(X_train)\n",
    "X_test = sc.transform(X_test)"
   ]
  },
  {
   "cell_type": "code",
   "execution_count": 180,
   "id": "9d60d552",
   "metadata": {},
   "outputs": [
    {
     "data": {
      "text/plain": [
       "((103046, 23), (103046,))"
      ]
     },
     "execution_count": 180,
     "metadata": {},
     "output_type": "execute_result"
    }
   ],
   "source": [
    "X_train.shape,y_train.shape"
   ]
  },
  {
   "cell_type": "code",
   "execution_count": 181,
   "id": "52eaf07b",
   "metadata": {},
   "outputs": [
    {
     "data": {
      "text/plain": [
       "((11450, 23), (11450,))"
      ]
     },
     "execution_count": 181,
     "metadata": {},
     "output_type": "execute_result"
    }
   ],
   "source": [
    "X_test.shape,y_test.shape"
   ]
  },
  {
   "cell_type": "markdown",
   "id": "1697f4dd",
   "metadata": {},
   "source": [
    "#### 1) Build a model using all the fields (doing appropriate conversions)\n",
    "\n",
    "1a) Logistic Regression\n",
    "\n",
    "1b) Decision Tree,\n",
    "\n",
    "1c) Randomforest\n",
    "\n",
    "1d) Naive Bayes\n",
    "\n",
    "1e) AdaBoost, GDBoost, XGBoost"
   ]
  },
  {
   "cell_type": "markdown",
   "id": "cdb58326",
   "metadata": {},
   "source": [
    "## Logistic Regression"
   ]
  },
  {
   "cell_type": "code",
   "execution_count": 143,
   "id": "8d08e8a4",
   "metadata": {},
   "outputs": [
    {
     "data": {
      "text/plain": [
       "LogisticRegression()"
      ]
     },
     "execution_count": 143,
     "metadata": {},
     "output_type": "execute_result"
    }
   ],
   "source": [
    "from sklearn.linear_model import LogisticRegression\n",
    "from sklearn.metrics import accuracy_score, confusion_matrix\n",
    "\n",
    "lr = LogisticRegression()\n",
    "lr.fit(X_train,y_train)"
   ]
  },
  {
   "cell_type": "code",
   "execution_count": 144,
   "id": "5d33b9dd",
   "metadata": {},
   "outputs": [],
   "source": [
    "ypred = lr.predict(X_test)"
   ]
  },
  {
   "cell_type": "code",
   "execution_count": 145,
   "id": "3d75e3ca",
   "metadata": {},
   "outputs": [
    {
     "name": "stdout",
     "output_type": "stream",
     "text": [
      "accuracy_score for logistic regression 0.87\n"
     ]
    }
   ],
   "source": [
    "print(\"accuracy_score for logistic regression\", round(accuracy_score(ypred,y_test),2))"
   ]
  },
  {
   "cell_type": "code",
   "execution_count": 146,
   "id": "9c5cfd0c",
   "metadata": {},
   "outputs": [
    {
     "data": {
      "image/png": "[encoded data removed]",
      "text/plain": [
       "<Figure size 360x288 with 2 Axes>"
      ]
     },
     "metadata": {
      "needs_background": "light"
     },
     "output_type": "display_data"
    }
   ],
   "source": [
    "plt.figure(figsize=(5,4))\n",
    "sns.heatmap(confusion_matrix(ypred,y_test),annot=True,fmt='g')\n",
    "plt.show()"
   ]
  },
  {
   "cell_type": "code",
   "execution_count": null,
   "id": "5f02abfd",
   "metadata": {},
   "outputs": [],
   "source": []
  },
  {
   "cell_type": "markdown",
   "id": "5b90c817",
   "metadata": {},
   "source": [
    "## Decision Tree"
   ]
  },
  {
   "cell_type": "code",
   "execution_count": 147,
   "id": "94227b8b",
   "metadata": {},
   "outputs": [
    {
     "data": {
      "text/plain": [
       "DecisionTreeClassifier()"
      ]
     },
     "execution_count": 147,
     "metadata": {},
     "output_type": "execute_result"
    }
   ],
   "source": [
    "from sklearn.tree import DecisionTreeClassifier\n",
    "dt = DecisionTreeClassifier()\n",
    "dt.fit(X_train,y_train)"
   ]
  },
  {
   "cell_type": "code",
   "execution_count": 148,
   "id": "1352c41d",
   "metadata": {},
   "outputs": [],
   "source": [
    "ypred = dt.predict(X_test)"
   ]
  },
  {
   "cell_type": "code",
   "execution_count": 149,
   "id": "1c45f45d",
   "metadata": {},
   "outputs": [
    {
     "name": "stdout",
     "output_type": "stream",
     "text": [
      "accuracy_score for decision tree 0.94\n"
     ]
    }
   ],
   "source": [
    "print(\"accuracy_score for decision tree\", round(accuracy_score(ypred,y_test),2))"
   ]
  },
  {
   "cell_type": "code",
   "execution_count": 150,
   "id": "d4e5e972",
   "metadata": {},
   "outputs": [
    {
     "data": {
      "image/png": "[encoded data removed]",
      "text/plain": [
       "<Figure size 360x288 with 2 Axes>"
      ]
     },
     "metadata": {
      "needs_background": "light"
     },
     "output_type": "display_data"
    }
   ],
   "source": [
    "plt.figure(figsize=(5,4))\n",
    "sns.heatmap(confusion_matrix(ypred,y_test),annot=True,fmt='g')\n",
    "plt.show()"
   ]
  },
  {
   "cell_type": "markdown",
   "id": "dc75873b",
   "metadata": {},
   "source": [
    "## Random Forest "
   ]
  },
  {
   "cell_type": "code",
   "execution_count": 151,
   "id": "bfc51f9a",
   "metadata": {},
   "outputs": [
    {
     "data": {
      "text/plain": [
       "RandomForestClassifier()"
      ]
     },
     "execution_count": 151,
     "metadata": {},
     "output_type": "execute_result"
    }
   ],
   "source": [
    "from sklearn.ensemble import RandomForestClassifier\n",
    "rf = RandomForestClassifier()\n",
    "rf.fit(X_train,y_train)"
   ]
  },
  {
   "cell_type": "code",
   "execution_count": 152,
   "id": "30da61cb",
   "metadata": {
    "scrolled": true
   },
   "outputs": [
    {
     "name": "stdout",
     "output_type": "stream",
     "text": [
      "accuracy_score for Random Forest 0.96\n"
     ]
    }
   ],
   "source": [
    "ypred = rf.predict(X_test)\n",
    "print(\"accuracy_score for Random Forest\", round(accuracy_score(ypred,y_test),2))"
   ]
  },
  {
   "cell_type": "code",
   "execution_count": 153,
   "id": "b1846129",
   "metadata": {},
   "outputs": [
    {
     "data": {
      "image/png": "[encoded data removed]",
      "text/plain": [
       "<Figure size 360x288 with 2 Axes>"
      ]
     },
     "metadata": {
      "needs_background": "light"
     },
     "output_type": "display_data"
    }
   ],
   "source": [
    "plt.figure(figsize=(5,4))\n",
    "sns.heatmap(confusion_matrix(ypred,y_test),annot=True,fmt='g')\n",
    "plt.show()"
   ]
  },
  {
   "cell_type": "markdown",
   "id": "59f15f8f",
   "metadata": {},
   "source": [
    "## Navie Bayes"
   ]
  },
  {
   "cell_type": "code",
   "execution_count": 154,
   "id": "b1b0af00",
   "metadata": {},
   "outputs": [
    {
     "data": {
      "text/plain": [
       "GaussianNB()"
      ]
     },
     "execution_count": 154,
     "metadata": {},
     "output_type": "execute_result"
    }
   ],
   "source": [
    "from sklearn.naive_bayes import GaussianNB\n",
    "model = GaussianNB()\n",
    "model.fit(X_train,y_train)"
   ]
  },
  {
   "cell_type": "code",
   "execution_count": 155,
   "id": "8e661220",
   "metadata": {},
   "outputs": [
    {
     "name": "stdout",
     "output_type": "stream",
     "text": [
      "accuracy_score for Navie Bayes 0.86\n"
     ]
    }
   ],
   "source": [
    "ypred = model.predict(X_test)\n",
    "print(\"accuracy_score for Navie Bayes\", round(accuracy_score(ypred,y_test),2))"
   ]
  },
  {
   "cell_type": "code",
   "execution_count": 156,
   "id": "9755dc50",
   "metadata": {},
   "outputs": [
    {
     "data": {
      "image/png": "[encoded data removed]",
      "text/plain": [
       "<Figure size 360x288 with 2 Axes>"
      ]
     },
     "metadata": {
      "needs_background": "light"
     },
     "output_type": "display_data"
    }
   ],
   "source": [
    "plt.figure(figsize=(5,4))\n",
    "sns.heatmap(confusion_matrix(ypred,y_test),annot=True,fmt='g')\n",
    "plt.show()"
   ]
  },
  {
   "cell_type": "markdown",
   "id": "f3adb9a6",
   "metadata": {},
   "source": [
    "## AdaBoost"
   ]
  },
  {
   "cell_type": "code",
   "execution_count": 157,
   "id": "c1487e5d",
   "metadata": {},
   "outputs": [
    {
     "data": {
      "text/plain": [
       "AdaBoostClassifier()"
      ]
     },
     "execution_count": 157,
     "metadata": {},
     "output_type": "execute_result"
    }
   ],
   "source": [
    "from sklearn.ensemble import AdaBoostClassifier\n",
    "ada = AdaBoostClassifier()\n",
    "ada.fit(X_train,y_train)"
   ]
  },
  {
   "cell_type": "code",
   "execution_count": 158,
   "id": "869bc20c",
   "metadata": {},
   "outputs": [
    {
     "name": "stdout",
     "output_type": "stream",
     "text": [
      "accuracy_score for AdaBoost 0.92\n"
     ]
    }
   ],
   "source": [
    "ypred = ada.predict(X_test)\n",
    "print(\"accuracy_score for AdaBoost\", round(accuracy_score(ypred,y_test),2))"
   ]
  },
  {
   "cell_type": "code",
   "execution_count": 159,
   "id": "9c497cd7",
   "metadata": {},
   "outputs": [
    {
     "data": {
      "image/png": "[encoded data removed]",
      "text/plain": [
       "<Figure size 360x288 with 2 Axes>"
      ]
     },
     "metadata": {
      "needs_background": "light"
     },
     "output_type": "display_data"
    }
   ],
   "source": [
    "plt.figure(figsize=(5,4))\n",
    "sns.heatmap(confusion_matrix(ypred,y_test),annot=True,fmt='g')\n",
    "plt.show()"
   ]
  },
  {
   "cell_type": "markdown",
   "id": "25b17642",
   "metadata": {},
   "source": [
    "## GDBoost"
   ]
  },
  {
   "cell_type": "code",
   "execution_count": 160,
   "id": "6cb5e736",
   "metadata": {},
   "outputs": [
    {
     "data": {
      "text/plain": [
       "GradientBoostingClassifier()"
      ]
     },
     "execution_count": 160,
     "metadata": {},
     "output_type": "execute_result"
    }
   ],
   "source": [
    "from sklearn.ensemble import GradientBoostingClassifier\n",
    "gdb = GradientBoostingClassifier()\n",
    "gdb.fit(X_train,y_train)"
   ]
  },
  {
   "cell_type": "code",
   "execution_count": 161,
   "id": "2e44359e",
   "metadata": {},
   "outputs": [
    {
     "name": "stdout",
     "output_type": "stream",
     "text": [
      "accuracy_score for GDBoost 0.94\n"
     ]
    }
   ],
   "source": [
    "ypred = gdb.predict(X_test)\n",
    "print(\"accuracy_score for GDBoost\", round(accuracy_score(ypred,y_test),2))"
   ]
  },
  {
   "cell_type": "code",
   "execution_count": 162,
   "id": "50de6786",
   "metadata": {},
   "outputs": [
    {
     "data": {
      "image/png": "[encoded data removed]",
      "text/plain": [
       "<Figure size 360x288 with 2 Axes>"
      ]
     },
     "metadata": {
      "needs_background": "light"
     },
     "output_type": "display_data"
    }
   ],
   "source": [
    "plt.figure(figsize=(5,4))\n",
    "sns.heatmap(confusion_matrix(ypred,y_test),annot=True,fmt='g')\n",
    "plt.show()"
   ]
  },
  {
   "cell_type": "markdown",
   "id": "ae02dacf",
   "metadata": {},
   "source": [
    "## XGBoost"
   ]
  },
  {
   "cell_type": "code",
   "execution_count": 163,
   "id": "a2038813",
   "metadata": {},
   "outputs": [],
   "source": [
    "#pip install xgboost"
   ]
  },
  {
   "cell_type": "code",
   "execution_count": 164,
   "id": "4b8d9575",
   "metadata": {},
   "outputs": [],
   "source": [
    "from xgboost import XGBClassifier"
   ]
  },
  {
   "cell_type": "code",
   "execution_count": 165,
   "id": "59b4daa3",
   "metadata": {},
   "outputs": [
    {
     "data": {
      "text/plain": [
       "XGBClassifier(base_score=0.5, booster='gbtree', callbacks=None,\n",
       "              colsample_bylevel=1, colsample_bynode=1, colsample_bytree=1,\n",
       "              early_stopping_rounds=None, enable_categorical=False,\n",
       "              eval_metric=None, gamma=0, gpu_id=-1, grow_policy='depthwise',\n",
       "              importance_type=None, interaction_constraints='',\n",
       "              learning_rate=0.300000012, max_bin=256, max_cat_to_onehot=4,\n",
       "              max_delta_step=0, max_depth=6, max_leaves=0, min_child_weight=1,\n",
       "              missing=nan, monotone_constraints='()', n_estimators=100,\n",
       "              n_jobs=0, num_parallel_tree=1, predictor='auto', random_state=0,\n",
       "              reg_alpha=0, reg_lambda=1, ...)"
      ]
     },
     "execution_count": 165,
     "metadata": {},
     "output_type": "execute_result"
    }
   ],
   "source": [
    "xgb = XGBClassifier()\n",
    "xgb.fit(X_train,y_train)"
   ]
  },
  {
   "cell_type": "code",
   "execution_count": 166,
   "id": "be2fbcdb",
   "metadata": {},
   "outputs": [
    {
     "name": "stdout",
     "output_type": "stream",
     "text": [
      "accuracy_score for XGBoost 0.96\n"
     ]
    }
   ],
   "source": [
    "ypred = xgb.predict(X_test)\n",
    "print(\"accuracy_score for XGBoost\", round(accuracy_score(ypred,y_test),2))"
   ]
  },
  {
   "cell_type": "code",
   "execution_count": 167,
   "id": "f0cf31ce",
   "metadata": {},
   "outputs": [
    {
     "data": {
      "image/png": "[encoded data removed]",
      "text/plain": [
       "<Figure size 360x288 with 2 Axes>"
      ]
     },
     "metadata": {
      "needs_background": "light"
     },
     "output_type": "display_data"
    }
   ],
   "source": [
    "plt.figure(figsize=(5,4))\n",
    "sns.heatmap(confusion_matrix(ypred,y_test),annot=True,fmt='g')\n",
    "plt.show()"
   ]
  },
  {
   "cell_type": "markdown",
   "id": "d30fbd32",
   "metadata": {},
   "source": [
    "## Hyper parameter Tuning using GridSearch and RandomSearch for RandomForest, GradientBoost, xgboost, and adaboost."
   ]
  },
  {
   "cell_type": "markdown",
   "id": "3fba11a6",
   "metadata": {},
   "source": [
    "### `GridSearch` uses a different combination of all the specified hyperparameters and their values and calculates the performance for each combination and selects the best value for the hyperparameters.\n"
   ]
  },
  {
   "cell_type": "markdown",
   "id": "85425072",
   "metadata": {},
   "source": [
    "#### GridSearchCV for RandomForest"
   ]
  },
  {
   "cell_type": "markdown",
   "id": "18310470",
   "metadata": {},
   "source": [
    "from sklearn.model_selection import GridSearchCV\n",
    "## Building Random Forest Classifier\n",
    "rfc = RandomForestClassifier()"
   ]
  },
  {
   "cell_type": "markdown",
   "id": "2c13ab45",
   "metadata": {
    "scrolled": true
   },
   "source": [
    "# Initializing GridSearchCV() object and fitting it with hyperparameters\n",
    "param_grid = { \n",
    "    'n_estimators': [200, 500],\n",
    "    'max_features': ['auto', 'sqrt', 'log2'],\n",
    "    'max_depth' : [4,5,6,7,8],\n",
    "    'criterion' :['gini', 'entropy']\n",
    "}\n",
    "\n",
    "clf = GridSearchCV(rfc, param_grid, cv = 10, scoring='accuracy')\n",
    "\n",
    "clf.fit(X_train, y_train)"
   ]
  },
  {
   "cell_type": "markdown",
   "id": "3d36e5d9",
   "metadata": {},
   "source": [
    "## Getting the Best Hyperparameters\n",
    "print(clf.bes)"
   ]
  },
  {
   "cell_type": "markdown",
   "id": "7271b83f",
   "metadata": {},
   "source": [
    "#### RandomizedSearchCV for RandomForest"
   ]
  },
  {
   "cell_type": "markdown",
   "id": "9e76b069",
   "metadata": {},
   "source": [
    "from sklearn.model_selection import RandomizedSearchCV"
   ]
  },
  {
   "cell_type": "markdown",
   "id": "fe96f737",
   "metadata": {},
   "source": [
    "#### 2) Find fields that are dependent using chi square (for categorical variables)"
   ]
  },
  {
   "cell_type": "markdown",
   "id": "b0a38fe4",
   "metadata": {},
   "source": [
    "The Chi-square test is a non-parametric statistical test that enables us to understand the relationship between the categorical variables of the dataset."
   ]
  },
  {
   "cell_type": "code",
   "execution_count": 188,
   "id": "060a68c0",
   "metadata": {},
   "outputs": [],
   "source": [
    "from scipy.stats import chi2_contingency"
   ]
  },
  {
   "cell_type": "code",
   "execution_count": 169,
   "id": "12959c0d",
   "metadata": {},
   "outputs": [],
   "source": [
    "cat_val = data.select_dtypes(\"object\")"
   ]
  },
  {
   "cell_type": "code",
   "execution_count": 170,
   "id": "f19db4d4",
   "metadata": {},
   "outputs": [
    {
     "data": {
      "text/html": [
       "<div>\n",
       "<style scoped>\n",
       "    .dataframe tbody tr th:only-of-type {\n",
       "        vertical-align: middle;\n",
       "    }\n",
       "\n",
       "    .dataframe tbody tr th {\n",
       "        vertical-align: top;\n",
       "    }\n",
       "\n",
       "    .dataframe thead th {\n",
       "        text-align: right;\n",
       "    }\n",
       "</style>\n",
       "<table border=\"1\" class=\"dataframe\">\n",
       "  <thead>\n",
       "    <tr style=\"text-align: right;\">\n",
       "      <th></th>\n",
       "      <th>Gender</th>\n",
       "      <th>Customer Type</th>\n",
       "      <th>Type of Travel</th>\n",
       "      <th>Class</th>\n",
       "      <th>Satisfaction</th>\n",
       "    </tr>\n",
       "  </thead>\n",
       "  <tbody>\n",
       "    <tr>\n",
       "      <th>0</th>\n",
       "      <td>Male</td>\n",
       "      <td>First-time</td>\n",
       "      <td>Business</td>\n",
       "      <td>Business</td>\n",
       "      <td>Neutral or Dissatisfied</td>\n",
       "    </tr>\n",
       "    <tr>\n",
       "      <th>1</th>\n",
       "      <td>Female</td>\n",
       "      <td>Returning</td>\n",
       "      <td>Business</td>\n",
       "      <td>Business</td>\n",
       "      <td>Satisfied</td>\n",
       "    </tr>\n",
       "    <tr>\n",
       "      <th>2</th>\n",
       "      <td>Male</td>\n",
       "      <td>Returning</td>\n",
       "      <td>Business</td>\n",
       "      <td>Business</td>\n",
       "      <td>Satisfied</td>\n",
       "    </tr>\n",
       "    <tr>\n",
       "      <th>3</th>\n",
       "      <td>Male</td>\n",
       "      <td>Returning</td>\n",
       "      <td>Business</td>\n",
       "      <td>Business</td>\n",
       "      <td>Satisfied</td>\n",
       "    </tr>\n",
       "    <tr>\n",
       "      <th>4</th>\n",
       "      <td>Female</td>\n",
       "      <td>Returning</td>\n",
       "      <td>Business</td>\n",
       "      <td>Business</td>\n",
       "      <td>Satisfied</td>\n",
       "    </tr>\n",
       "  </tbody>\n",
       "</table>\n",
       "</div>"
      ],
      "text/plain": [
       "   Gender Customer Type Type of Travel     Class             Satisfaction\n",
       "0    Male    First-time       Business  Business  Neutral or Dissatisfied\n",
       "1  Female     Returning       Business  Business                Satisfied\n",
       "2    Male     Returning       Business  Business                Satisfied\n",
       "3    Male     Returning       Business  Business                Satisfied\n",
       "4  Female     Returning       Business  Business                Satisfied"
      ]
     },
     "execution_count": 170,
     "metadata": {},
     "output_type": "execute_result"
    }
   ],
   "source": [
    "cat_val.head()"
   ]
  },
  {
   "cell_type": "markdown",
   "id": "e0351ce0",
   "metadata": {},
   "source": [
    "#### Chi square test for target variable \"Satisfaction\" column."
   ]
  },
  {
   "cell_type": "code",
   "execution_count": 212,
   "id": "f1be8017",
   "metadata": {},
   "outputs": [
    {
     "name": "stdout",
     "output_type": "stream",
     "text": [
      "chi-sqaure statistics 26282.521 and p_value 0.00\n"
     ]
    }
   ],
   "source": [
    "cat_table = pd.crosstab(cat_val['Type of Travel'],cat_val['Satisfaction'])\n",
    "chi2, p, dof, expected  = chi2_contingency(cat_table.values)\n",
    "print('chi-sqaure statistics %0.3f and p_value %0.2f'%(chi2,p))"
   ]
  },
  {
   "cell_type": "markdown",
   "id": "e168257a",
   "metadata": {},
   "source": [
    "As we know that if p-value is less than alpha(0.05),then we reject null hypothesis. Therefore we can say that Satisfaction and Type of travel is dependent each other."
   ]
  },
  {
   "cell_type": "code",
   "execution_count": 200,
   "id": "344ae9d8",
   "metadata": {},
   "outputs": [
    {
     "name": "stdout",
     "output_type": "stream",
     "text": [
      "chi-sqaure statistics 32906.172 and p_value 0.00\n"
     ]
    }
   ],
   "source": [
    "cat_table = pd.crosstab(cat_val['Class'],cat_val['Satisfaction'])\n",
    "chi2, p, dof, expected  = chi2_contingency(cat_table.values)\n",
    "print('chi-sqaure statistics %0.3f and p_value %0.2f'%(chi2,p))"
   ]
  },
  {
   "cell_type": "markdown",
   "id": "c928f781",
   "metadata": {},
   "source": [
    "As we know that if p-value is less than alpha(0.05),then we reject null hypothesis. Therefore we can say that Satisfaction and Class is dependent each other."
   ]
  },
  {
   "cell_type": "code",
   "execution_count": 199,
   "id": "b6169cb9",
   "metadata": {
    "scrolled": false
   },
   "outputs": [
    {
     "name": "stdout",
     "output_type": "stream",
     "text": [
      "chi-sqaure statistics 16.352 and p_value 0.00\n"
     ]
    }
   ],
   "source": [
    "cat_table = pd.crosstab(cat_val['Gender'],cat_val['Satisfaction'])\n",
    "chi2, p, dof, expected  = chi2_contingency(cat_table.values)\n",
    "print('chi-sqaure statistics %0.3f and p_value %0.2f'%(chi2,p))"
   ]
  },
  {
   "cell_type": "markdown",
   "id": "fb320315",
   "metadata": {},
   "source": [
    "As we know that if p-value is less than alpha(0.05),then we reject null hypothesis. Therefore we can say that Satisfaction and Gender is dependent each other."
   ]
  },
  {
   "cell_type": "code",
   "execution_count": 198,
   "id": "4e1cea66",
   "metadata": {},
   "outputs": [
    {
     "name": "stdout",
     "output_type": "stream",
     "text": [
      "chi-sqaure statistics 4493.189 and p_value 0.00\n"
     ]
    }
   ],
   "source": [
    "cat_table = pd.crosstab(cat_val['Customer Type'],cat_val['Satisfaction'])\n",
    "chi2, p, dof, expected  = chi2_contingency(cat_table.values)\n",
    "print('chi-sqaure statistics %0.3f and p_value %0.2f'%(chi2,p))"
   ]
  },
  {
   "cell_type": "markdown",
   "id": "d3cd9774",
   "metadata": {},
   "source": [
    "As we know that if p-value is less than alpha(0.05),then we reject null hypothesis. Therefore we can say that Satisfaction and Customer Type is dependent each other."
   ]
  },
  {
   "cell_type": "markdown",
   "id": "af1ef950",
   "metadata": {},
   "source": [
    "### Chi square test for independent column."
   ]
  },
  {
   "cell_type": "markdown",
   "id": "ac537d30",
   "metadata": {},
   "source": [
    "### for Gender"
   ]
  },
  {
   "cell_type": "code",
   "execution_count": 202,
   "id": "41c9e1cf",
   "metadata": {
    "scrolled": true
   },
   "outputs": [
    {
     "name": "stdout",
     "output_type": "stream",
     "text": [
      "chi-sqaure statistics 11.687 and p_value 0.00\n"
     ]
    }
   ],
   "source": [
    "cat_table = pd.crosstab(cat_val['Gender'],cat_val['Type of Travel'])\n",
    "chi2, p, dof, expected  = chi2_contingency(cat_table.values)\n",
    "print('chi-sqaure statistics %0.3f and p_value %0.2f'%(chi2,p))"
   ]
  },
  {
   "cell_type": "markdown",
   "id": "3959cc54",
   "metadata": {},
   "source": [
    "As we know that if p-value is less than alpha(0.05),then we reject null hypothesis. Therefore we can say that Gender and Type of travel is dependent each other."
   ]
  },
  {
   "cell_type": "code",
   "execution_count": 203,
   "id": "e0297b3a",
   "metadata": {},
   "outputs": [
    {
     "name": "stdout",
     "output_type": "stream",
     "text": [
      "chi-sqaure statistics 124.313 and p_value 0.00\n"
     ]
    }
   ],
   "source": [
    "cat_table = pd.crosstab(cat_val['Gender'],cat_val['Customer Type'])\n",
    "chi2, p, dof, expected  = chi2_contingency(cat_table.values)\n",
    "print('chi-sqaure statistics %0.3f and p_value %0.2f'%(chi2,p))"
   ]
  },
  {
   "cell_type": "markdown",
   "id": "59fc085e",
   "metadata": {},
   "source": [
    "As we know that if p-value is less than alpha(0.05),then we reject null hypothesis. Therefore we can say that Gender and Customer Type is dependent each other."
   ]
  },
  {
   "cell_type": "code",
   "execution_count": 204,
   "id": "9f6f04e5",
   "metadata": {},
   "outputs": [
    {
     "name": "stdout",
     "output_type": "stream",
     "text": [
      "chi-sqaure statistics 20.908 and p_value 0.00\n"
     ]
    }
   ],
   "source": [
    "cat_table = pd.crosstab(cat_val['Gender'],cat_val['Class'])\n",
    "chi2, p, dof, expected  = chi2_contingency(cat_table.values)\n",
    "print('chi-sqaure statistics %0.3f and p_value %0.2f'%(chi2,p))"
   ]
  },
  {
   "cell_type": "markdown",
   "id": "40f7ba51",
   "metadata": {},
   "source": [
    "As we know that if p-value is less than alpha(0.05),then we reject null hypothesis. Therefore we can say that Gender and Class is dependent each other."
   ]
  },
  {
   "cell_type": "markdown",
   "id": "66ccb527",
   "metadata": {},
   "source": [
    "### for Class"
   ]
  },
  {
   "cell_type": "code",
   "execution_count": 205,
   "id": "a4722e0c",
   "metadata": {},
   "outputs": [
    {
     "name": "stdout",
     "output_type": "stream",
     "text": [
      "chi-sqaure statistics 39886.219 and p_value 0.00\n"
     ]
    }
   ],
   "source": [
    "cat_table = pd.crosstab(cat_val['Class'],cat_val['Type of Travel'])\n",
    "chi2, p, dof, expected  = chi2_contingency(cat_table.values)\n",
    "print('chi-sqaure statistics %0.3f and p_value %0.2f'%(chi2,p))"
   ]
  },
  {
   "cell_type": "markdown",
   "id": "17d86a04",
   "metadata": {},
   "source": [
    "As we know that if p-value is less than alpha(0.05),then we reject null hypothesis. Therefore we can say that Class and Type of travel is dependent each other."
   ]
  },
  {
   "cell_type": "code",
   "execution_count": 206,
   "id": "4790bcf4",
   "metadata": {},
   "outputs": [
    {
     "name": "stdout",
     "output_type": "stream",
     "text": [
      "chi-sqaure statistics 1964.426 and p_value 0.00\n"
     ]
    }
   ],
   "source": [
    "cat_table = pd.crosstab(cat_val['Class'],cat_val['Customer Type'])\n",
    "chi2, p, dof, expected  = chi2_contingency(cat_table.values)\n",
    "print('chi-sqaure statistics %0.3f and p_value %0.2f'%(chi2,p))"
   ]
  },
  {
   "cell_type": "markdown",
   "id": "24200537",
   "metadata": {},
   "source": [
    "As we know that if p-value is less than alpha(0.05),then we reject null hypothesis. Therefore we can say that Class and Customer Type is dependent each other."
   ]
  },
  {
   "cell_type": "markdown",
   "id": "25364247",
   "metadata": {},
   "source": [
    "### for Customer Type"
   ]
  },
  {
   "cell_type": "code",
   "execution_count": 211,
   "id": "29087728",
   "metadata": {},
   "outputs": [
    {
     "name": "stdout",
     "output_type": "stream",
     "text": [
      "chi-sqaure statistics 12338.072 and p_value 0.00\n"
     ]
    }
   ],
   "source": [
    "cat_table = pd.crosstab(cat_val['Customer Type'],cat_val['Type of Travel'])\n",
    "chi2, p, dof, expected  = chi2_contingency(cat_table.values)\n",
    "print('chi-sqaure statistics %0.3f and p_value %0.2f'%(chi2,p))"
   ]
  },
  {
   "cell_type": "markdown",
   "id": "b84a1212",
   "metadata": {},
   "source": [
    "As we know that if p-value is less than alpha(0.05),then we reject null hypothesis. Therefore we can say that Customer Type and Type of travel is dependent each other."
   ]
  },
  {
   "cell_type": "markdown",
   "id": "00f2fb22",
   "metadata": {},
   "source": [
    "#### 3. Address multi-collinearity and build logistic regression models for them\n"
   ]
  },
  {
   "cell_type": "code",
   "execution_count": 213,
   "id": "29755640",
   "metadata": {},
   "outputs": [
    {
     "data": {
      "text/html": [
       "<div>\n",
       "<style scoped>\n",
       "    .dataframe tbody tr th:only-of-type {\n",
       "        vertical-align: middle;\n",
       "    }\n",
       "\n",
       "    .dataframe tbody tr th {\n",
       "        vertical-align: top;\n",
       "    }\n",
       "\n",
       "    .dataframe thead th {\n",
       "        text-align: right;\n",
       "    }\n",
       "</style>\n",
       "<table border=\"1\" class=\"dataframe\">\n",
       "  <thead>\n",
       "    <tr style=\"text-align: right;\">\n",
       "      <th></th>\n",
       "      <th>Age</th>\n",
       "      <th>Flight Distance</th>\n",
       "      <th>Departure Delay</th>\n",
       "      <th>Arrival Delay</th>\n",
       "      <th>Departure and Arrival Time Convenience</th>\n",
       "      <th>Ease of Online Booking</th>\n",
       "      <th>Check-in Service</th>\n",
       "      <th>Online Boarding</th>\n",
       "      <th>Gate Location</th>\n",
       "      <th>On-board Service</th>\n",
       "      <th>...</th>\n",
       "      <th>In-flight Service</th>\n",
       "      <th>In-flight Wifi Service</th>\n",
       "      <th>In-flight Entertainment</th>\n",
       "      <th>Baggage Handling</th>\n",
       "      <th>Satisfaction</th>\n",
       "      <th>Gender_Male</th>\n",
       "      <th>Customer Type_Returning</th>\n",
       "      <th>Type of Travel_Personal</th>\n",
       "      <th>Class_Economy</th>\n",
       "      <th>Class_Economy Plus</th>\n",
       "    </tr>\n",
       "  </thead>\n",
       "  <tbody>\n",
       "    <tr>\n",
       "      <th>0</th>\n",
       "      <td>48</td>\n",
       "      <td>821</td>\n",
       "      <td>2.0</td>\n",
       "      <td>5.0</td>\n",
       "      <td>3</td>\n",
       "      <td>3</td>\n",
       "      <td>4</td>\n",
       "      <td>3</td>\n",
       "      <td>3</td>\n",
       "      <td>3</td>\n",
       "      <td>...</td>\n",
       "      <td>5</td>\n",
       "      <td>3</td>\n",
       "      <td>5</td>\n",
       "      <td>5</td>\n",
       "      <td>0</td>\n",
       "      <td>1</td>\n",
       "      <td>0</td>\n",
       "      <td>0</td>\n",
       "      <td>0</td>\n",
       "      <td>0</td>\n",
       "    </tr>\n",
       "    <tr>\n",
       "      <th>1</th>\n",
       "      <td>35</td>\n",
       "      <td>821</td>\n",
       "      <td>26.0</td>\n",
       "      <td>39.0</td>\n",
       "      <td>2</td>\n",
       "      <td>2</td>\n",
       "      <td>3</td>\n",
       "      <td>5</td>\n",
       "      <td>2</td>\n",
       "      <td>5</td>\n",
       "      <td>...</td>\n",
       "      <td>5</td>\n",
       "      <td>2</td>\n",
       "      <td>5</td>\n",
       "      <td>5</td>\n",
       "      <td>1</td>\n",
       "      <td>0</td>\n",
       "      <td>1</td>\n",
       "      <td>0</td>\n",
       "      <td>0</td>\n",
       "      <td>0</td>\n",
       "    </tr>\n",
       "    <tr>\n",
       "      <th>2</th>\n",
       "      <td>41</td>\n",
       "      <td>853</td>\n",
       "      <td>0.0</td>\n",
       "      <td>0.0</td>\n",
       "      <td>4</td>\n",
       "      <td>4</td>\n",
       "      <td>4</td>\n",
       "      <td>5</td>\n",
       "      <td>4</td>\n",
       "      <td>3</td>\n",
       "      <td>...</td>\n",
       "      <td>3</td>\n",
       "      <td>4</td>\n",
       "      <td>3</td>\n",
       "      <td>3</td>\n",
       "      <td>1</td>\n",
       "      <td>1</td>\n",
       "      <td>1</td>\n",
       "      <td>0</td>\n",
       "      <td>0</td>\n",
       "      <td>0</td>\n",
       "    </tr>\n",
       "    <tr>\n",
       "      <th>3</th>\n",
       "      <td>50</td>\n",
       "      <td>1905</td>\n",
       "      <td>0.0</td>\n",
       "      <td>0.0</td>\n",
       "      <td>2</td>\n",
       "      <td>2</td>\n",
       "      <td>3</td>\n",
       "      <td>4</td>\n",
       "      <td>2</td>\n",
       "      <td>5</td>\n",
       "      <td>...</td>\n",
       "      <td>5</td>\n",
       "      <td>2</td>\n",
       "      <td>5</td>\n",
       "      <td>5</td>\n",
       "      <td>1</td>\n",
       "      <td>1</td>\n",
       "      <td>1</td>\n",
       "      <td>0</td>\n",
       "      <td>0</td>\n",
       "      <td>0</td>\n",
       "    </tr>\n",
       "    <tr>\n",
       "      <th>4</th>\n",
       "      <td>43</td>\n",
       "      <td>1963</td>\n",
       "      <td>0.0</td>\n",
       "      <td>0.0</td>\n",
       "      <td>3</td>\n",
       "      <td>3</td>\n",
       "      <td>4</td>\n",
       "      <td>4</td>\n",
       "      <td>3</td>\n",
       "      <td>5</td>\n",
       "      <td>...</td>\n",
       "      <td>5</td>\n",
       "      <td>3</td>\n",
       "      <td>5</td>\n",
       "      <td>5</td>\n",
       "      <td>1</td>\n",
       "      <td>1</td>\n",
       "      <td>1</td>\n",
       "      <td>0</td>\n",
       "      <td>0</td>\n",
       "      <td>0</td>\n",
       "    </tr>\n",
       "  </tbody>\n",
       "</table>\n",
       "<p>5 rows × 24 columns</p>\n",
       "</div>"
      ],
      "text/plain": [
       "   Age  Flight Distance  Departure Delay  Arrival Delay  \\\n",
       "0   48              821              2.0            5.0   \n",
       "1   35              821             26.0           39.0   \n",
       "2   41              853              0.0            0.0   \n",
       "3   50             1905              0.0            0.0   \n",
       "4   43             1963              0.0            0.0   \n",
       "\n",
       "   Departure and Arrival Time Convenience  Ease of Online Booking  \\\n",
       "0                                       3                       3   \n",
       "1                                       2                       2   \n",
       "2                                       4                       4   \n",
       "3                                       2                       2   \n",
       "4                                       3                       3   \n",
       "\n",
       "   Check-in Service  Online Boarding  Gate Location  On-board Service  ...  \\\n",
       "0                 4                3              3                 3  ...   \n",
       "1                 3                5              2                 5  ...   \n",
       "2                 4                5              4                 3  ...   \n",
       "3                 3                4              2                 5  ...   \n",
       "4                 4                4              3                 5  ...   \n",
       "\n",
       "   In-flight Service  In-flight Wifi Service  In-flight Entertainment  \\\n",
       "0                  5                       3                        5   \n",
       "1                  5                       2                        5   \n",
       "2                  3                       4                        3   \n",
       "3                  5                       2                        5   \n",
       "4                  5                       3                        5   \n",
       "\n",
       "   Baggage Handling  Satisfaction  Gender_Male  Customer Type_Returning  \\\n",
       "0                 5             0            1                        0   \n",
       "1                 5             1            0                        1   \n",
       "2                 3             1            1                        1   \n",
       "3                 5             1            1                        1   \n",
       "4                 5             1            1                        1   \n",
       "\n",
       "   Type of Travel_Personal  Class_Economy  Class_Economy Plus  \n",
       "0                        0              0                   0  \n",
       "1                        0              0                   0  \n",
       "2                        0              0                   0  \n",
       "3                        0              0                   0  \n",
       "4                        0              0                   0  \n",
       "\n",
       "[5 rows x 24 columns]"
      ]
     },
     "execution_count": 213,
     "metadata": {},
     "output_type": "execute_result"
    }
   ],
   "source": [
    "final_df.head()"
   ]
  },
  {
   "cell_type": "markdown",
   "id": "f2a9c06f",
   "metadata": {},
   "source": [
    "#### To check multicollinearity we will use VIF Score\n",
    "\n",
    "- VIF score of an independent variable represents how well the variable is explained by other independent variables.\n",
    "- R^2 value is determined to find out how well an independent variable is described by the other independent variables.\n",
    "- A high value of R^2 means that the variable is highly correlated with the other variables.\n",
    "- VIF starts at 1 and has no upper limit\n",
    "- VIF = 1, no correlation between the independent variable and the other variables\n",
    "- VIF exceeding 5 or 10 indicates high multicollinearity between this independent variable and the others"
   ]
  },
  {
   "cell_type": "code",
   "execution_count": 218,
   "id": "7256f4b0",
   "metadata": {},
   "outputs": [],
   "source": [
    "def vif_cal(input_data,dependent_col):\n",
    "    import statsmodels.formula.api as sm\n",
    "    x_vars = input_data.drop([dependent_col],axis=1)\n",
    "    xvar_names = x_vars.columns\n",
    "    for i in range(0,xvar_names.shape[0]):\n",
    "        y = x_vars[xvar_names[i]]\n",
    "        x = x_vars[xvar_names.drop(xvar_names[i])]\n",
    "        rsq = sm.ols(formula='y~x', data= x_vars).fit().rsquared\n",
    "        print(\"R-squared Value:\",rsq)\n",
    "        vif=round(1/(1-rsq),2)\n",
    "        print(xvar_names[i], \"VIF=\",vif)"
   ]
  },
  {
   "cell_type": "code",
   "execution_count": 219,
   "id": "cd1531c7",
   "metadata": {},
   "outputs": [
    {
     "name": "stdout",
     "output_type": "stream",
     "text": [
      "R-squared Value: 0.14205550169118708\n",
      "Age VIF= 1.17\n",
      "R-squared Value: 0.18802080516014275\n",
      "Flight Distance VIF= 1.23\n",
      "R-squared Value: 0.727358248323597\n",
      "Departure Delay VIF= 3.67\n",
      "R-squared Value: 0.7278001741513611\n",
      "Arrival Delay VIF= 3.67\n",
      "R-squared Value: 0.38262333567822426\n",
      "Departure and Arrival Time Convenience VIF= 1.62\n",
      "R-squared Value: 0.633405795052689\n",
      "Ease of Online Booking VIF= 2.73\n",
      "R-squared Value: 0.17333810956166018\n",
      "Check-in Service VIF= 1.21\n",
      "R-squared Value: 0.5121700355686156\n",
      "Online Boarding VIF= 2.05\n",
      "R-squared Value: 0.3056574784387629\n",
      "Gate Location VIF= 1.44\n",
      "R-squared Value: 0.43086731115132737\n",
      "On-board Service VIF= 1.76\n",
      "R-squared Value: 0.5834511726595883\n",
      "Seat Comfort VIF= 2.4\n",
      "R-squared Value: 0.2185782803658879\n",
      "Leg Room Service VIF= 1.28\n",
      "R-squared Value: 0.6753695949586513\n",
      "Cleanliness VIF= 3.08\n",
      "R-squared Value: 0.5794732122580506\n",
      "Food and Drink VIF= 2.38\n",
      "R-squared Value: 0.5146441653548535\n",
      "In-flight Service VIF= 2.06\n",
      "R-squared Value: 0.5986663618083647\n",
      "In-flight Wifi Service VIF= 2.49\n",
      "R-squared Value: 0.7695150680385447\n",
      "In-flight Entertainment VIF= 4.34\n",
      "R-squared Value: 0.46581831178795674\n",
      "Baggage Handling VIF= 1.87\n",
      "R-squared Value: 0.01335490115411353\n",
      "Gender_Male VIF= 1.01\n",
      "R-squared Value: 0.36549931048603335\n",
      "Customer Type_Returning VIF= 1.58\n",
      "R-squared Value: 0.5101096453577204\n",
      "Type of Travel_Personal VIF= 2.04\n",
      "R-squared Value: 0.5113877129431812\n",
      "Class_Economy VIF= 2.05\n",
      "R-squared Value: 0.23696660010664983\n",
      "Class_Economy Plus VIF= 1.31\n"
     ]
    }
   ],
   "source": [
    "vif_cal(input_data=final_df,dependent_col='Satisfaction')"
   ]
  },
  {
   "cell_type": "markdown",
   "id": "89479106",
   "metadata": {},
   "source": [
    "### Logistic Report before removing multicollinearity"
   ]
  },
  {
   "cell_type": "code",
   "execution_count": 243,
   "id": "8e95f71d",
   "metadata": {},
   "outputs": [
    {
     "name": "stdout",
     "output_type": "stream",
     "text": [
      "Optimization terminated successfully.\n",
      "         Current function value: 0.676965\n",
      "         Iterations 4\n",
      "                           Logit Regression Results                           \n",
      "==============================================================================\n",
      "Dep. Variable:           Satisfaction   No. Observations:               103046\n",
      "Model:                          Logit   Df Residuals:                   103022\n",
      "Method:                           MLE   Df Model:                           23\n",
      "Date:                Tue, 14 Jun 2022   Pseudo R-squ.:               0.0002023\n",
      "Time:                        12:20:52   Log-Likelihood:                -69759.\n",
      "converged:                       True   LL-Null:                       -69773.\n",
      "Covariance Type:            nonrobust   LLR p-value:                    0.2073\n",
      "==============================================================================\n",
      "                 coef    std err          z      P>|z|      [0.025      0.975]\n",
      "------------------------------------------------------------------------------\n",
      "const         -0.3613      0.006    -57.047      0.000      -0.374      -0.349\n",
      "x1            -0.0025      0.007     -0.361      0.718      -0.016       0.011\n",
      "x2            -0.0036      0.007     -0.512      0.609      -0.017       0.010\n",
      "x3            -0.0256      0.012     -2.102      0.036      -0.050      -0.002\n",
      "x4             0.0039      0.012      0.318      0.751      -0.020       0.028\n",
      "x5            -0.0027      0.008     -0.335      0.737      -0.019       0.013\n",
      "x6            -0.0009      0.010     -0.081      0.935      -0.021       0.020\n",
      "x7            -0.0038      0.007     -0.547      0.584      -0.017       0.010\n",
      "x8             0.0039      0.009      0.432      0.666      -0.014       0.022\n",
      "x9            -0.0041      0.008     -0.546      0.585      -0.019       0.011\n",
      "x10            0.0082      0.008      0.976      0.329      -0.008       0.025\n",
      "x11           -0.0037      0.010     -0.376      0.707      -0.023       0.016\n",
      "x12            0.0027      0.007      0.383      0.701      -0.011       0.017\n",
      "x13            0.0103      0.011      0.932      0.351      -0.011       0.032\n",
      "x14            0.0154      0.010      1.576      0.115      -0.004       0.034\n",
      "x15           -0.0100      0.009     -1.096      0.273      -0.028       0.008\n",
      "x16           -0.0068      0.010     -0.675      0.499      -0.026       0.013\n",
      "x17           -0.0146      0.013     -1.106      0.269      -0.040       0.011\n",
      "x18            0.0055      0.009      0.633      0.526      -0.011       0.022\n",
      "x19            0.0080      0.006      1.258      0.208      -0.004       0.021\n",
      "x20            0.0020      0.008      0.250      0.802      -0.014       0.018\n",
      "x21            0.0107      0.009      1.186      0.236      -0.007       0.028\n",
      "x22           -0.0024      0.009     -0.270      0.788      -0.020       0.015\n",
      "x23            0.0054      0.007      0.743      0.458      -0.009       0.020\n",
      "==============================================================================\n"
     ]
    }
   ],
   "source": [
    "import statsmodels.api as sm\n",
    "#Model statistics\n",
    "#Must add constant for y-intercept\n",
    "model_lr = sm.Logit(ytrain, sm.add_constant(X_train)).fit()\n",
    "y_pred = model_lr.predict(sm.add_constant(X_test))\n",
    "print_model = model_lr.summary()\n",
    "print(print_model)"
   ]
  },
  {
   "cell_type": "markdown",
   "id": "fa45de98",
   "metadata": {},
   "source": [
    "### After removing Multicollinearity"
   ]
  },
  {
   "cell_type": "code",
   "execution_count": 220,
   "id": "1654a63a",
   "metadata": {},
   "outputs": [],
   "source": [
    "Xtrain,Xtest,ytrain,ytest = train_test_split(X,y,test_size=0.1)"
   ]
  },
  {
   "cell_type": "code",
   "execution_count": 221,
   "id": "f61ed390",
   "metadata": {},
   "outputs": [],
   "source": [
    "corrmatrix = Xtrain.corr() # check correlation between each other"
   ]
  },
  {
   "cell_type": "code",
   "execution_count": 222,
   "id": "77bb3102",
   "metadata": {},
   "outputs": [
    {
     "data": {
      "image/png": "[encoded data removed]",
      "text/plain": [
       "<Figure size 1440x720 with 2 Axes>"
      ]
     },
     "metadata": {
      "needs_background": "light"
     },
     "output_type": "display_data"
    }
   ],
   "source": [
    "plt.figure(figsize=(20,10))\n",
    "sns.heatmap(corrmatrix,annot=True)\n",
    "plt.show()"
   ]
  },
  {
   "cell_type": "markdown",
   "id": "2fff745a",
   "metadata": {},
   "source": [
    "After visualizing, we observed that `Arrival Delay`and `Departure Delay` having strong correlation. "
   ]
  },
  {
   "cell_type": "code",
   "execution_count": 223,
   "id": "d1d1fccc",
   "metadata": {},
   "outputs": [],
   "source": [
    "# finding correlation among features \n",
    "def correlation(df,threshold):\n",
    "    correlated_cols = set()\n",
    "    corr_matrix = df.corr()\n",
    "    for i in range(len(corr_matrix.columns)):\n",
    "        for j in range(i):\n",
    "            if abs(corr_matrix.iloc[i,j]) > threshold:\n",
    "                colname = corr_matrix.columns[i]\n",
    "                correlated_cols.add(colname)\n",
    "    return correlated_cols"
   ]
  },
  {
   "cell_type": "code",
   "execution_count": 224,
   "id": "a11d9b37",
   "metadata": {},
   "outputs": [
    {
     "data": {
      "text/plain": [
       "{'Arrival Delay',\n",
       " 'Baggage Handling',\n",
       " 'Cleanliness',\n",
       " 'Food and Drink',\n",
       " 'In-flight Entertainment',\n",
       " 'In-flight Wifi Service'}"
      ]
     },
     "execution_count": 224,
     "metadata": {},
     "output_type": "execute_result"
    }
   ],
   "source": [
    "# finding correlation features who having more than 60%\n",
    "corr_feature = correlation(Xtrain,0.6)\n",
    "corr_feature"
   ]
  },
  {
   "cell_type": "code",
   "execution_count": 225,
   "id": "e0042d93",
   "metadata": {},
   "outputs": [
    {
     "data": {
      "text/plain": [
       "((103046, 23), (11450, 23))"
      ]
     },
     "execution_count": 225,
     "metadata": {},
     "output_type": "execute_result"
    }
   ],
   "source": [
    "Xtrain.shape, Xtest.shape"
   ]
  },
  {
   "cell_type": "code",
   "execution_count": 226,
   "id": "ab1e9d06",
   "metadata": {},
   "outputs": [],
   "source": [
    "# Drop those feature\n",
    "Xtrain.drop(labels=corr_feature,axis=1,inplace=True)\n",
    "Xtest.drop(labels=corr_feature,axis=1,inplace=True)"
   ]
  },
  {
   "cell_type": "code",
   "execution_count": 227,
   "id": "c7e22483",
   "metadata": {},
   "outputs": [
    {
     "data": {
      "text/plain": [
       "((103046, 17), (11450, 17))"
      ]
     },
     "execution_count": 227,
     "metadata": {},
     "output_type": "execute_result"
    }
   ],
   "source": [
    "Xtrain.shape,Xtest.shape"
   ]
  },
  {
   "cell_type": "markdown",
   "id": "c892f757",
   "metadata": {},
   "source": [
    "##### `using summary of logit regression results we will check wheather feature having multicollinearity."
   ]
  },
  {
   "cell_type": "code",
   "execution_count": 232,
   "id": "2ab398e0",
   "metadata": {},
   "outputs": [
    {
     "name": "stdout",
     "output_type": "stream",
     "text": [
      "Optimization terminated successfully.\n",
      "         Current function value: 0.352385\n",
      "         Iterations 7\n",
      "                           Logit Regression Results                           \n",
      "==============================================================================\n",
      "Dep. Variable:           Satisfaction   No. Observations:               103046\n",
      "Model:                          Logit   Df Residuals:                   103028\n",
      "Method:                           MLE   Df Model:                           17\n",
      "Date:                Tue, 14 Jun 2022   Pseudo R-squ.:                  0.4796\n",
      "Time:                        11:52:51   Log-Likelihood:                -36312.\n",
      "converged:                       True   LL-Null:                       -69773.\n",
      "Covariance Type:            nonrobust   LLR p-value:                     0.000\n",
      "==========================================================================================================\n",
      "                                             coef    std err          z      P>|z|      [0.025      0.975]\n",
      "----------------------------------------------------------------------------------------------------------\n",
      "const                                     -7.2019      0.072   -100.654      0.000      -7.342      -7.062\n",
      "Age                                       -0.0123      0.001    -17.942      0.000      -0.014      -0.011\n",
      "Flight Distance                        -7.555e-05   1.37e-05     -5.515      0.000      -0.000   -4.87e-05\n",
      "Departure Delay                           -0.0125      0.001    -20.414      0.000      -0.014      -0.011\n",
      "Departure and Arrival Time Convenience    -0.1213      0.008    -15.354      0.000      -0.137      -0.106\n",
      "Ease of Online Booking                     0.0523      0.009      5.503      0.000       0.034       0.071\n",
      "Check-in Service                           0.3004      0.008     37.267      0.000       0.285       0.316\n",
      "Online Boarding                            0.7363      0.010     76.201      0.000       0.717       0.755\n",
      "Gate Location                              0.0164      0.009      1.852      0.064      -0.001       0.034\n",
      "On-board Service                           0.3613      0.009     39.059      0.000       0.343       0.379\n",
      "Seat Comfort                               0.2219      0.008     27.415      0.000       0.206       0.238\n",
      "Leg Room Service                           0.2814      0.008     35.195      0.000       0.266       0.297\n",
      "In-flight Service                          0.2065      0.010     20.333      0.000       0.187       0.226\n",
      "Gender_Male                                0.1102      0.019      5.835      0.000       0.073       0.147\n",
      "Customer Type_Returning                    1.9764      0.028     71.361      0.000       1.922       2.031\n",
      "Type of Travel_Personal                   -2.7942      0.029    -95.878      0.000      -2.851      -2.737\n",
      "Class_Economy                             -0.5467      0.023    -23.368      0.000      -0.593      -0.501\n",
      "Class_Economy Plus                        -0.5954      0.038    -15.869      0.000      -0.669      -0.522\n",
      "==========================================================================================================\n"
     ]
    }
   ],
   "source": [
    "import statsmodels.api as sm\n",
    "#Model statistics\n",
    "#Must add constant for y-intercept\n",
    "model = sm.Logit(ytrain, sm.add_constant(Xtrain)).fit()\n",
    "y_pred = model.predict(sm.add_constant(Xtest))\n",
    "print_model = model.summary()\n",
    "print(print_model)"
   ]
  },
  {
   "cell_type": "markdown",
   "id": "b6dae365",
   "metadata": {},
   "source": [
    "#### Now again build logistic regression model to check accuracy after removing multicollinearity"
   ]
  },
  {
   "cell_type": "code",
   "execution_count": 229,
   "id": "574dda08",
   "metadata": {},
   "outputs": [
    {
     "data": {
      "text/plain": [
       "LogisticRegression()"
      ]
     },
     "execution_count": 229,
     "metadata": {},
     "output_type": "execute_result"
    }
   ],
   "source": [
    "from sklearn.linear_model import LogisticRegression\n",
    "logistic = LogisticRegression()\n",
    "logistic.fit(Xtrain,ytrain)"
   ]
  },
  {
   "cell_type": "code",
   "execution_count": 230,
   "id": "22b0cd42",
   "metadata": {},
   "outputs": [
    {
     "name": "stdout",
     "output_type": "stream",
     "text": [
      "accuracy_score for Logistic after multi-collinearity 0.81\n"
     ]
    }
   ],
   "source": [
    "ypred = logistic.predict(Xtest)\n",
    "print(\"accuracy_score for Logistic after multi-collinearity\", round(accuracy_score(ypred,ytest),2))"
   ]
  },
  {
   "cell_type": "code",
   "execution_count": 231,
   "id": "4bdda7ca",
   "metadata": {},
   "outputs": [
    {
     "data": {
      "image/png": "[encoded data removed]",
      "text/plain": [
       "<Figure size 360x288 with 2 Axes>"
      ]
     },
     "metadata": {
      "needs_background": "light"
     },
     "output_type": "display_data"
    }
   ],
   "source": [
    "plt.figure(figsize=(5,4))\n",
    "sns.heatmap(confusion_matrix(ypred,ytest),annot=True,fmt='g')\n",
    "plt.show()"
   ]
  },
  {
   "cell_type": "markdown",
   "id": "edd569e3",
   "metadata": {},
   "source": [
    "### Now again remove Gate Location feature form the data.\n",
    "## Drop Gate Location"
   ]
  },
  {
   "cell_type": "code",
   "execution_count": 234,
   "id": "9aa8ffc4",
   "metadata": {},
   "outputs": [],
   "source": [
    "# Drop those feature\n",
    "Xtrain.drop('Gate Location',axis=1,inplace=True)\n",
    "Xtest.drop('Gate Location',axis=1,inplace=True)"
   ]
  },
  {
   "cell_type": "code",
   "execution_count": 235,
   "id": "31bef85d",
   "metadata": {},
   "outputs": [
    {
     "data": {
      "text/plain": [
       "((103046, 16), (11450, 16))"
      ]
     },
     "execution_count": 235,
     "metadata": {},
     "output_type": "execute_result"
    }
   ],
   "source": [
    "Xtrain.shape,Xtest.shape"
   ]
  },
  {
   "cell_type": "code",
   "execution_count": 238,
   "id": "bb6481a1",
   "metadata": {},
   "outputs": [
    {
     "name": "stdout",
     "output_type": "stream",
     "text": [
      "Optimization terminated successfully.\n",
      "         Current function value: 0.352401\n",
      "         Iterations 7\n",
      "                           Logit Regression Results                           \n",
      "==============================================================================\n",
      "Dep. Variable:           Satisfaction   No. Observations:               103046\n",
      "Model:                          Logit   Df Residuals:                   103029\n",
      "Method:                           MLE   Df Model:                           16\n",
      "Date:                Tue, 14 Jun 2022   Pseudo R-squ.:                  0.4795\n",
      "Time:                        12:10:37   Log-Likelihood:                -36314.\n",
      "converged:                       True   LL-Null:                       -69773.\n",
      "Covariance Type:            nonrobust   LLR p-value:                     0.000\n",
      "==========================================================================================================\n",
      "                                             coef    std err          z      P>|z|      [0.025      0.975]\n",
      "----------------------------------------------------------------------------------------------------------\n",
      "const                                     -7.1712      0.070   -103.098      0.000      -7.308      -7.035\n",
      "Age                                       -0.0123      0.001    -17.908      0.000      -0.014      -0.011\n",
      "Flight Distance                        -7.558e-05   1.37e-05     -5.519      0.000      -0.000   -4.87e-05\n",
      "Departure Delay                           -0.0125      0.001    -20.413      0.000      -0.014      -0.011\n",
      "Departure and Arrival Time Convenience    -0.1170      0.008    -15.501      0.000      -0.132      -0.102\n",
      "Ease of Online Booking                     0.0586      0.009      6.604      0.000       0.041       0.076\n",
      "Check-in Service                           0.3002      0.008     37.238      0.000       0.284       0.316\n",
      "Online Boarding                            0.7325      0.009     77.622      0.000       0.714       0.751\n",
      "On-board Service                           0.3609      0.009     39.027      0.000       0.343       0.379\n",
      "Seat Comfort                               0.2233      0.008     27.702      0.000       0.207       0.239\n",
      "Leg Room Service                           0.2806      0.008     35.144      0.000       0.265       0.296\n",
      "In-flight Service                          0.2061      0.010     20.308      0.000       0.186       0.226\n",
      "Gender_Male                                0.1097      0.019      5.811      0.000       0.073       0.147\n",
      "Customer Type_Returning                    1.9766      0.028     71.352      0.000       1.922       2.031\n",
      "Type of Travel_Personal                   -2.7994      0.029    -96.461      0.000      -2.856      -2.743\n",
      "Class_Economy                             -0.5471      0.023    -23.382      0.000      -0.593      -0.501\n",
      "Class_Economy Plus                        -0.5962      0.038    -15.894      0.000      -0.670      -0.523\n",
      "==========================================================================================================\n"
     ]
    }
   ],
   "source": [
    "import statsmodels.api as sm\n",
    "#Model statistics\n",
    "#Must add constant for y-intercept\n",
    "model1 = sm.Logit(ytrain, sm.add_constant(Xtrain)).fit()\n",
    "y_pred = model1.predict(sm.add_constant(Xtest))\n",
    "print_model1 = model1.summary()\n",
    "print(print_model1)"
   ]
  },
  {
   "cell_type": "code",
   "execution_count": 241,
   "id": "ec3a8d8f",
   "metadata": {},
   "outputs": [
    {
     "data": {
      "text/plain": [
       "LogisticRegression()"
      ]
     },
     "execution_count": 241,
     "metadata": {},
     "output_type": "execute_result"
    }
   ],
   "source": [
    "from sklearn.linear_model import LogisticRegression\n",
    "logistic1 = LogisticRegression()\n",
    "logistic1.fit(Xtrain,ytrain)"
   ]
  },
  {
   "cell_type": "code",
   "execution_count": 242,
   "id": "6b1e5277",
   "metadata": {},
   "outputs": [
    {
     "name": "stdout",
     "output_type": "stream",
     "text": [
      "accuracy_score for Logistic after multi-collinearity 0.81\n"
     ]
    }
   ],
   "source": [
    "ypred = logistic1.predict(Xtest)\n",
    "print(\"accuracy_score for Logistic after multi-collinearity\", round(accuracy_score(ypred,ytest),2))"
   ]
  },
  {
   "cell_type": "code",
   "execution_count": null,
   "id": "be0fbb4b",
   "metadata": {},
   "outputs": [],
   "source": []
  }
 ],
 "metadata": {
  "kernelspec": {
   "display_name": "Python 3",
   "language": "python",
   "name": "python3"
  },
  "language_info": {
   "codemirror_mode": {
    "name": "ipython",
    "version": 3
   },
   "file_extension": ".py",
   "mimetype": "text/x-python",
   "name": "python",
   "nbconvert_exporter": "python",
   "pygments_lexer": "ipython3",
   "version": "3.8.8"
  }
 },
 "nbformat": 4,
 "nbformat_minor": 5
}
